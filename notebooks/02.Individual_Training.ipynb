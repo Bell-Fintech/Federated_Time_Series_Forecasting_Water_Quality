{
 "cells": [
  {
   "cell_type": "markdown",
   "id": "8da638ca",
   "metadata": {},
   "source": [
    "### In this notebook we perform individual training.\n",
    "In individual learning each base station has access only to it's private dataset."
   ]
  },
  {
   "cell_type": "code",
   "execution_count": 300,
   "id": "2f3d7d47",
   "metadata": {},
   "outputs": [],
   "source": [
    "import sys\n",
    "import os\n",
    "\n",
    "from pathlib import Path\n",
    "\n",
    "parent = Path(os.path.abspath(\"\")).resolve().parents[0]\n",
    "if parent not in sys.path:\n",
    "    sys.path.insert(0, str(parent))"
   ]
  },
  {
   "cell_type": "code",
   "execution_count": 301,
   "id": "01e170e2",
   "metadata": {},
   "outputs": [],
   "source": [
    "import random\n",
    "\n",
    "import numpy as np\n",
    "import torch\n",
    "\n",
    "from argparse import Namespace"
   ]
  },
  {
   "cell_type": "code",
   "execution_count": 302,
   "id": "15abc428",
   "metadata": {},
   "outputs": [],
   "source": [
    "from ml.utils.data_utils import read_data, generate_time_lags, time_to_feature, handle_nans, to_Xy, \\\n",
    "    to_torch_dataset, to_timeseries_rep, assign_statistics, \\\n",
    "    to_train_val, scale_features, get_data_by_area, remove_identifiers, get_exogenous_data_by_area, handle_outliers"
   ]
  },
  {
   "cell_type": "code",
   "execution_count": 303,
   "id": "350c9d6f",
   "metadata": {},
   "outputs": [],
   "source": [
    "from ml.utils.train_utils import train, test"
   ]
  },
  {
   "cell_type": "code",
   "execution_count": 304,
   "id": "4688fbec",
   "metadata": {},
   "outputs": [],
   "source": [
    "from ml.models.mlp import MLP\n",
    "from ml.models.rnn import RNN\n",
    "from ml.models.lstm import LSTM\n",
    "from ml.models.gru import GRU\n",
    "from ml.models.cnn import CNN\n",
    "from ml.models.rnn_autoencoder import DualAttentionAutoEncoder"
   ]
  },
  {
   "cell_type": "markdown",
   "id": "e56a743e",
   "metadata": {},
   "source": [
    "> You can define the base station to perform train on the filter_bs parameter and use it in block 12 or you can define the base station to block 12 explicitly"
   ]
  },
  {
   "cell_type": "code",
   "execution_count": 305,
   "outputs": [],
   "source": [
    "args = Namespace(\n",
    "    data_path='../dataset/full_dataset.csv', # dataset\n",
    "    data_path_test=['../dataset/upstream_test.csv'], # test dataset\n",
    "    test_size=0.3, # validation size\n",
    "    targets=['temp','pH','DissolvedOxygen','Conductivity','Turbidity'], # the target columns\n",
    "    num_lags=3, # the number of past observations to feed as input\n",
    "\n",
    "\n",
    "    filter_bs='upstream', # whether to use a single bs for training. It will be changed dynamically\n",
    "    identifier='District', # the column name that identifies a bs\n",
    "\n",
    "    nan_constant=0, # the constant to transform nan values\n",
    "    x_scaler='minmax', # x_scaler\n",
    "    y_scaler='minmax', # y_scaler\n",
    "    outlier_detection=None, # whether to perform flooring and capping\n",
    "\n",
    "\n",
    "    criterion='mse', # optimization criterion, mse or l1\n",
    "    epochs=100, # the number of maximum epochs\n",
    "    lr=0.001, # learning rate\n",
    "    optimizer='adam', # the optimizer, it can be sgd or adam\n",
    "    batch_size=128, # the batch size to use\n",
    "    early_stopping=True, # whether to use early stopping\n",
    "    patience=80, # patience value for the early stopping parameter (if specified)\n",
    "    max_grad_norm=0.0, # whether to clip grad norm\n",
    "    reg1=0.05, # l1 regularization\n",
    "    reg2=0.05, # l2 regularization\n",
    "\n",
    "    plot_history=True, # plot loss history\n",
    "\n",
    "    cuda=True, # whether to use gpu\n",
    "\n",
    "    seed=0, # reproducibility\n",
    "\n",
    "    assign_stats=None, # whether to use statistics as exogenous data, [\"mean\", \"median\", \"std\", \"variance\", \"kurtosis\", \"skew\"]\n",
    "    use_time_features=False # whether to use datetime features\n",
    ")"
   ],
   "metadata": {
    "collapsed": false
   }
  },
  {
   "cell_type": "code",
   "execution_count": 306,
   "outputs": [
    {
     "name": "stdout",
     "output_type": "stream",
     "text": [
      "Script arguments: Namespace(assign_stats=None, batch_size=128, criterion='mse', cuda=True, data_path='../dataset/full_dataset.csv', data_path_test=['../dataset/upstream_test.csv'], early_stopping=True, epochs=100, filter_bs='upstream', identifier='District', lr=0.001, max_grad_norm=0.0, nan_constant=0, num_lags=3, optimizer='adam', outlier_detection=None, patience=80, plot_history=True, reg1=0.05, reg2=0.05, seed=0, targets=['temp', 'pH', 'DissolvedOxygen', 'Conductivity', 'Turbidity'], test_size=0.3, use_time_features=False, x_scaler='minmax', y_scaler='minmax')\n",
      "\n"
     ]
    }
   ],
   "source": [
    "print(f\"Script arguments: {args}\\n\")"
   ],
   "metadata": {
    "collapsed": false
   }
  },
  {
   "cell_type": "code",
   "execution_count": 307,
   "id": "da3431ef",
   "metadata": {},
   "outputs": [
    {
     "name": "stdout",
     "output_type": "stream",
     "text": [
      "Using cuda\n"
     ]
    }
   ],
   "source": [
    "device = \"cuda\" if args.cuda and torch.cuda.is_available() else \"cpu\"\n",
    "print(f\"Using {device}\")"
   ]
  },
  {
   "cell_type": "code",
   "execution_count": 308,
   "id": "06bb4aaa",
   "metadata": {},
   "outputs": [],
   "source": [
    "# Outlier detection specification\n",
    "if args.outlier_detection is not None:\n",
    "    outlier_columns = ['Conductivity', 'Turbidity', 'pH', 'DissolvedOxygen']\n",
    "    outlier_kwargs = {\"upstream\": (10, 90), \"midstream\": (10, 90), \"downstream\": (5, 95)}\n",
    "    args.outlier_columns = outlier_columns\n",
    "    args.outlier_kwargs = outlier_kwargs"
   ]
  },
  {
   "cell_type": "code",
   "execution_count": 309,
   "id": "1ac1d35a",
   "metadata": {},
   "outputs": [],
   "source": [
    "def seed_all():\n",
    "    # ensure reproducibility\n",
    "    random.seed(args.seed)\n",
    "    np.random.seed(args.seed)\n",
    "    torch.manual_seed(args.seed)\n",
    "    torch.cuda.manual_seed_all(args.seed)\n",
    "    torch.backends.cudnn.deterministic = True\n",
    "    torch.backends.cudnn.benchmark = False"
   ]
  },
  {
   "cell_type": "code",
   "execution_count": 310,
   "id": "ea3ddd05",
   "metadata": {},
   "outputs": [],
   "source": [
    "seed_all()"
   ]
  },
  {
   "cell_type": "markdown",
   "id": "00543376",
   "metadata": {},
   "source": [
    "### The preprocessing pipeline performed here for the river station specified in filter_bs argument\n",
    "Preprocessing inlcudes:\n",
    "1. NaNs Handling\n",
    "2. Outliers Handling\n",
    "3. Scaling Data\n",
    "4. Generating time lags\n",
    "5. Generating and importing exogenous data as features (time, statistics) (if applied)"
   ]
  },
  {
   "cell_type": "code",
   "execution_count": 311,
   "id": "35bc6b48",
   "metadata": {},
   "outputs": [],
   "source": [
    "import pandas as pd\n",
    "def make_preprocessing(filter_bs=None):\n",
    "    \"\"\"Preprocess a given .csv\"\"\"\n",
    "    # read data\n",
    "    df = read_data(args.data_path, filter_data=filter_bs)\n",
    "    # handle nans\n",
    "    df = handle_nans(train_data=df, constant=args.nan_constant,\n",
    "                     identifier=args.identifier)\n",
    "    # split to train/validation\n",
    "    train_data, val_data = to_train_val(df)\n",
    "    \n",
    "    # handle outliers (if specified)\n",
    "    if args.outlier_detection is not None:\n",
    "        train_data = handle_outliers(df=train_data, columns=args.outlier_columns,\n",
    "                                     identifier=args.identifier, kwargs=args.outlier_kwargs)\n",
    "    \n",
    "    # get X and y\n",
    "    X_train, X_val, y_train, y_val = to_Xy(train_data=train_data, val_data=val_data,\n",
    "                                          targets=args.targets)\n",
    "    \n",
    "    # scale X\n",
    "    X_train, X_val, x_scaler = scale_features(train_data=X_train, val_data=X_val,\n",
    "                                             scaler=args.x_scaler, identifier=args.identifier)\n",
    "    # scale y\n",
    "    y_train, y_val, y_scaler = scale_features(train_data=y_train, val_data=y_val,\n",
    "                                             scaler=args.y_scaler, identifier=args.identifier)\n",
    "    \n",
    "    # generate time lags\n",
    "    X_train = generate_time_lags(X_train, args.num_lags)\n",
    "    X_val = generate_time_lags(X_val, args.num_lags)\n",
    "    y_train = generate_time_lags(y_train, args.num_lags, is_y=True)\n",
    "    y_val = generate_time_lags(y_val, args.num_lags, is_y=True)\n",
    "    \n",
    "    # get datetime features as exogenous data\n",
    "    date_time_df_train = time_to_feature(\n",
    "        X_train, args.use_time_features, identifier=args.identifier\n",
    "    )\n",
    "    date_time_df_val = time_to_feature(\n",
    "        X_val, args.use_time_features, identifier=args.identifier\n",
    "    )\n",
    "    \n",
    "    # get statistics as exogenous data\n",
    "    stats_df_train = assign_statistics(X_train, args.assign_stats, args.num_lags,\n",
    "                                       targets=args.targets, identifier=args.identifier)\n",
    "    stats_df_val = assign_statistics(X_val, args.assign_stats, args.num_lags, \n",
    "                                       targets=args.targets, identifier=args.identifier)\n",
    "    \n",
    "    # concat the exogenous features (if any) to a single dataframe\n",
    "    if date_time_df_train is not None or stats_df_train is not None:\n",
    "        exogenous_data_train = pd.concat([date_time_df_train, stats_df_train], axis=1)\n",
    "        # remove duplicate columns (if any)\n",
    "        exogenous_data_train = exogenous_data_train.loc[:, ~exogenous_data_train.columns.duplicated()].copy()\n",
    "        assert len(exogenous_data_train) == len(X_train) == len(y_train)\n",
    "    else:\n",
    "        exogenous_data_train = None\n",
    "    if date_time_df_val is not None or stats_df_val is not None:\n",
    "        exogenous_data_val = pd.concat([date_time_df_val, stats_df_val], axis=1)\n",
    "        exogenous_data_val = exogenous_data_val.loc[:, ~exogenous_data_val.columns.duplicated()].copy()\n",
    "        assert len(exogenous_data_val) == len(X_val) == len(y_val)\n",
    "    else:\n",
    "        exogenous_data_val = None\n",
    "        \n",
    "    return X_train, X_val, y_train, y_val, exogenous_data_train, exogenous_data_val, x_scaler, y_scaler"
   ]
  },
  {
   "cell_type": "code",
   "execution_count": 312,
   "id": "66fc93eb",
   "metadata": {},
   "outputs": [
    {
     "name": "stderr",
     "output_type": "stream",
     "text": [
      "INFO logger 2024-06-02 23:21:55,887 | data_utils.py:28 | Reading upstream's data...\n",
      "INFO logger 2024-06-02 23:21:55,915 | data_utils.py:395 | \tTotal number of samples:  4863\n",
      "INFO logger 2024-06-02 23:21:55,916 | data_utils.py:396 | \tNumber of samples for training: 3891\n",
      "INFO logger 2024-06-02 23:21:55,916 | data_utils.py:397 | \tNumber of samples for validation:  972\n"
     ]
    }
   ],
   "source": [
    "# here exogenous_data_train and val are None.\n",
    "X_train, X_val, y_train, y_val, exogenous_data_train, exogenous_data_val, x_scaler, y_scaler = make_preprocessing(\n",
    "    filter_bs='upstream'\n",
    ")"
   ]
  },
  {
   "cell_type": "code",
   "execution_count": 313,
   "id": "9b99c6f2",
   "metadata": {},
   "outputs": [
    {
     "data": {
      "text/plain": "                     TotalNitrogen_lag-3  TotalPhosphorus_lag-3  \\\ntime                                                              \n2020-11-09 12:00:00             0.053548               0.487918   \n2020-11-09 16:00:00             0.053548               0.487918   \n2020-11-09 20:00:00             0.052996               0.489781   \n2020-11-10 00:00:00             0.054376               0.489781   \n2020-11-10 04:00:00             0.055756               0.488850   \n\n                     AmmoniaNitrogen_lag-3  PermanganateIndex_lag-3  \\\ntime                                                                  \n2020-11-09 12:00:00               0.454747                 0.202132   \n2020-11-09 16:00:00               0.454747                 0.202132   \n2020-11-09 20:00:00               0.468944                 0.179582   \n2020-11-10 00:00:00               0.468944                 0.188602   \n2020-11-10 04:00:00               0.458740                 0.192292   \n\n                     Turbidity_lag-3  Conductivity_lag-3  \\\ntime                                                       \n2020-11-09 12:00:00         0.004535            0.185411   \n2020-11-09 16:00:00         0.005683            0.185266   \n2020-11-09 20:00:00         0.005683            0.185266   \n2020-11-10 00:00:00         0.004995            0.186714   \n2020-11-10 04:00:00         0.004995            0.186714   \n\n                     DissolvedOxygen_lag-3  pH_lag-3  temp_lag-3  \\\ntime                                                               \n2020-11-09 12:00:00               0.314404  0.227700    0.671883   \n2020-11-09 16:00:00               0.278265  0.194836    0.663788   \n2020-11-09 20:00:00               0.277233  0.194836    0.658392   \n2020-11-10 00:00:00               0.323180  0.248826    0.677280   \n2020-11-10 04:00:00               0.347444  0.248826    0.685375   \n\n                     TotalNitrogen_lag-2  ...  TotalNitrogen_lag-1  \\\ntime                                      ...                        \n2020-11-09 12:00:00             0.053548  ...             0.052996   \n2020-11-09 16:00:00             0.052996  ...             0.054376   \n2020-11-09 20:00:00             0.054376  ...             0.055756   \n2020-11-10 00:00:00             0.055756  ...             0.055480   \n2020-11-10 04:00:00             0.055480  ...             0.053548   \n\n                     TotalPhosphorus_lag-1  AmmoniaNitrogen_lag-1  \\\ntime                                                                \n2020-11-09 12:00:00               0.489781               0.468944   \n2020-11-09 16:00:00               0.489781               0.468944   \n2020-11-09 20:00:00               0.488850               0.458740   \n2020-11-10 00:00:00               0.488384               0.454747   \n2020-11-10 04:00:00               0.487918               0.454747   \n\n                     PermanganateIndex_lag-1  Turbidity_lag-1  \\\ntime                                                            \n2020-11-09 12:00:00                 0.179582         0.005683   \n2020-11-09 16:00:00                 0.188602         0.004995   \n2020-11-09 20:00:00                 0.192292         0.004995   \n2020-11-10 00:00:00                 0.201722         0.004306   \n2020-11-10 04:00:00                 0.182862         0.004306   \n\n                     Conductivity_lag-1  DissolvedOxygen_lag-1  pH_lag-1  \\\ntime                                                                       \n2020-11-09 12:00:00            0.185266               0.277233  0.194836   \n2020-11-09 16:00:00            0.186714               0.323180  0.248826   \n2020-11-09 20:00:00            0.186714               0.347444  0.248826   \n2020-11-10 00:00:00            0.187294               0.340733  0.276995   \n2020-11-10 04:00:00            0.187294               0.306143  0.276995   \n\n                     temp_lag-1  District  \ntime                                       \n2020-11-09 12:00:00    0.658392  upstream  \n2020-11-09 16:00:00    0.677280  upstream  \n2020-11-09 20:00:00    0.685375  upstream  \n2020-11-10 00:00:00    0.674582  upstream  \n2020-11-10 04:00:00    0.666487  upstream  \n\n[5 rows x 28 columns]",
      "text/html": "<div>\n<style scoped>\n    .dataframe tbody tr th:only-of-type {\n        vertical-align: middle;\n    }\n\n    .dataframe tbody tr th {\n        vertical-align: top;\n    }\n\n    .dataframe thead th {\n        text-align: right;\n    }\n</style>\n<table border=\"1\" class=\"dataframe\">\n  <thead>\n    <tr style=\"text-align: right;\">\n      <th></th>\n      <th>TotalNitrogen_lag-3</th>\n      <th>TotalPhosphorus_lag-3</th>\n      <th>AmmoniaNitrogen_lag-3</th>\n      <th>PermanganateIndex_lag-3</th>\n      <th>Turbidity_lag-3</th>\n      <th>Conductivity_lag-3</th>\n      <th>DissolvedOxygen_lag-3</th>\n      <th>pH_lag-3</th>\n      <th>temp_lag-3</th>\n      <th>TotalNitrogen_lag-2</th>\n      <th>...</th>\n      <th>TotalNitrogen_lag-1</th>\n      <th>TotalPhosphorus_lag-1</th>\n      <th>AmmoniaNitrogen_lag-1</th>\n      <th>PermanganateIndex_lag-1</th>\n      <th>Turbidity_lag-1</th>\n      <th>Conductivity_lag-1</th>\n      <th>DissolvedOxygen_lag-1</th>\n      <th>pH_lag-1</th>\n      <th>temp_lag-1</th>\n      <th>District</th>\n    </tr>\n    <tr>\n      <th>time</th>\n      <th></th>\n      <th></th>\n      <th></th>\n      <th></th>\n      <th></th>\n      <th></th>\n      <th></th>\n      <th></th>\n      <th></th>\n      <th></th>\n      <th></th>\n      <th></th>\n      <th></th>\n      <th></th>\n      <th></th>\n      <th></th>\n      <th></th>\n      <th></th>\n      <th></th>\n      <th></th>\n      <th></th>\n    </tr>\n  </thead>\n  <tbody>\n    <tr>\n      <th>2020-11-09 12:00:00</th>\n      <td>0.053548</td>\n      <td>0.487918</td>\n      <td>0.454747</td>\n      <td>0.202132</td>\n      <td>0.004535</td>\n      <td>0.185411</td>\n      <td>0.314404</td>\n      <td>0.227700</td>\n      <td>0.671883</td>\n      <td>0.053548</td>\n      <td>...</td>\n      <td>0.052996</td>\n      <td>0.489781</td>\n      <td>0.468944</td>\n      <td>0.179582</td>\n      <td>0.005683</td>\n      <td>0.185266</td>\n      <td>0.277233</td>\n      <td>0.194836</td>\n      <td>0.658392</td>\n      <td>upstream</td>\n    </tr>\n    <tr>\n      <th>2020-11-09 16:00:00</th>\n      <td>0.053548</td>\n      <td>0.487918</td>\n      <td>0.454747</td>\n      <td>0.202132</td>\n      <td>0.005683</td>\n      <td>0.185266</td>\n      <td>0.278265</td>\n      <td>0.194836</td>\n      <td>0.663788</td>\n      <td>0.052996</td>\n      <td>...</td>\n      <td>0.054376</td>\n      <td>0.489781</td>\n      <td>0.468944</td>\n      <td>0.188602</td>\n      <td>0.004995</td>\n      <td>0.186714</td>\n      <td>0.323180</td>\n      <td>0.248826</td>\n      <td>0.677280</td>\n      <td>upstream</td>\n    </tr>\n    <tr>\n      <th>2020-11-09 20:00:00</th>\n      <td>0.052996</td>\n      <td>0.489781</td>\n      <td>0.468944</td>\n      <td>0.179582</td>\n      <td>0.005683</td>\n      <td>0.185266</td>\n      <td>0.277233</td>\n      <td>0.194836</td>\n      <td>0.658392</td>\n      <td>0.054376</td>\n      <td>...</td>\n      <td>0.055756</td>\n      <td>0.488850</td>\n      <td>0.458740</td>\n      <td>0.192292</td>\n      <td>0.004995</td>\n      <td>0.186714</td>\n      <td>0.347444</td>\n      <td>0.248826</td>\n      <td>0.685375</td>\n      <td>upstream</td>\n    </tr>\n    <tr>\n      <th>2020-11-10 00:00:00</th>\n      <td>0.054376</td>\n      <td>0.489781</td>\n      <td>0.468944</td>\n      <td>0.188602</td>\n      <td>0.004995</td>\n      <td>0.186714</td>\n      <td>0.323180</td>\n      <td>0.248826</td>\n      <td>0.677280</td>\n      <td>0.055756</td>\n      <td>...</td>\n      <td>0.055480</td>\n      <td>0.488384</td>\n      <td>0.454747</td>\n      <td>0.201722</td>\n      <td>0.004306</td>\n      <td>0.187294</td>\n      <td>0.340733</td>\n      <td>0.276995</td>\n      <td>0.674582</td>\n      <td>upstream</td>\n    </tr>\n    <tr>\n      <th>2020-11-10 04:00:00</th>\n      <td>0.055756</td>\n      <td>0.488850</td>\n      <td>0.458740</td>\n      <td>0.192292</td>\n      <td>0.004995</td>\n      <td>0.186714</td>\n      <td>0.347444</td>\n      <td>0.248826</td>\n      <td>0.685375</td>\n      <td>0.055480</td>\n      <td>...</td>\n      <td>0.053548</td>\n      <td>0.487918</td>\n      <td>0.454747</td>\n      <td>0.182862</td>\n      <td>0.004306</td>\n      <td>0.187294</td>\n      <td>0.306143</td>\n      <td>0.276995</td>\n      <td>0.666487</td>\n      <td>upstream</td>\n    </tr>\n  </tbody>\n</table>\n<p>5 rows × 28 columns</p>\n</div>"
     },
     "execution_count": 313,
     "metadata": {},
     "output_type": "execute_result"
    }
   ],
   "source": [
    "X_train.head()"
   ]
  },
  {
   "cell_type": "code",
   "execution_count": 314,
   "id": "ec22537f",
   "metadata": {},
   "outputs": [
    {
     "data": {
      "text/plain": "                         temp        pH  DissolvedOxygen  Conductivity  \\\ntime                                                                     \n2020-11-09 12:00:00  0.677280  0.248826         0.323180      0.186714   \n2020-11-09 16:00:00  0.685375  0.248826         0.347444      0.186714   \n2020-11-09 20:00:00  0.674582  0.276995         0.340733      0.187294   \n2020-11-10 00:00:00  0.666487  0.276995         0.306143      0.187294   \n2020-11-10 04:00:00  0.658392  0.206573         0.291172      0.186714   \n\n                     Turbidity  District  \ntime                                      \n2020-11-09 12:00:00   0.004995  upstream  \n2020-11-09 16:00:00   0.004995  upstream  \n2020-11-09 20:00:00   0.004306  upstream  \n2020-11-10 00:00:00   0.004306  upstream  \n2020-11-10 04:00:00   0.005856  upstream  ",
      "text/html": "<div>\n<style scoped>\n    .dataframe tbody tr th:only-of-type {\n        vertical-align: middle;\n    }\n\n    .dataframe tbody tr th {\n        vertical-align: top;\n    }\n\n    .dataframe thead th {\n        text-align: right;\n    }\n</style>\n<table border=\"1\" class=\"dataframe\">\n  <thead>\n    <tr style=\"text-align: right;\">\n      <th></th>\n      <th>temp</th>\n      <th>pH</th>\n      <th>DissolvedOxygen</th>\n      <th>Conductivity</th>\n      <th>Turbidity</th>\n      <th>District</th>\n    </tr>\n    <tr>\n      <th>time</th>\n      <th></th>\n      <th></th>\n      <th></th>\n      <th></th>\n      <th></th>\n      <th></th>\n    </tr>\n  </thead>\n  <tbody>\n    <tr>\n      <th>2020-11-09 12:00:00</th>\n      <td>0.677280</td>\n      <td>0.248826</td>\n      <td>0.323180</td>\n      <td>0.186714</td>\n      <td>0.004995</td>\n      <td>upstream</td>\n    </tr>\n    <tr>\n      <th>2020-11-09 16:00:00</th>\n      <td>0.685375</td>\n      <td>0.248826</td>\n      <td>0.347444</td>\n      <td>0.186714</td>\n      <td>0.004995</td>\n      <td>upstream</td>\n    </tr>\n    <tr>\n      <th>2020-11-09 20:00:00</th>\n      <td>0.674582</td>\n      <td>0.276995</td>\n      <td>0.340733</td>\n      <td>0.187294</td>\n      <td>0.004306</td>\n      <td>upstream</td>\n    </tr>\n    <tr>\n      <th>2020-11-10 00:00:00</th>\n      <td>0.666487</td>\n      <td>0.276995</td>\n      <td>0.306143</td>\n      <td>0.187294</td>\n      <td>0.004306</td>\n      <td>upstream</td>\n    </tr>\n    <tr>\n      <th>2020-11-10 04:00:00</th>\n      <td>0.658392</td>\n      <td>0.206573</td>\n      <td>0.291172</td>\n      <td>0.186714</td>\n      <td>0.005856</td>\n      <td>upstream</td>\n    </tr>\n  </tbody>\n</table>\n</div>"
     },
     "execution_count": 314,
     "metadata": {},
     "output_type": "execute_result"
    }
   ],
   "source": [
    "y_train.head()"
   ]
  },
  {
   "cell_type": "code",
   "execution_count": 315,
   "id": "367c2b33",
   "metadata": {},
   "outputs": [
    {
     "data": {
      "text/plain": "(MinMaxScaler(), MinMaxScaler())"
     },
     "execution_count": 315,
     "metadata": {},
     "output_type": "execute_result"
    }
   ],
   "source": [
    "x_scaler, y_scaler"
   ]
  },
  {
   "cell_type": "markdown",
   "id": "488a9c30",
   "metadata": {},
   "source": [
    "### Postprocessing Stage\n",
    "\n",
    "In this stage we transform data in a way that can be fed into ML algorithms."
   ]
  },
  {
   "cell_type": "code",
   "execution_count": 316,
   "id": "c417082c",
   "metadata": {},
   "outputs": [],
   "source": [
    "def make_postprocessing(X_train, X_val, y_train, y_val, exogenous_data_train, exogenous_data_val, x_scaler, y_scaler):\n",
    "    \"\"\"Make data ready to be fed into ml algorithms\"\"\"\n",
    "    # if there are more than one specified areas, get the data per area\n",
    "    if X_train[args.identifier].nunique() != 1:\n",
    "        area_X_train, area_X_val, area_y_train, area_y_val = get_data_by_area(X_train, X_val,\n",
    "                                                                              y_train, y_val, \n",
    "                                                                              identifier=args.identifier)\n",
    "    else:\n",
    "        area_X_train, area_X_val, area_y_train, area_y_val = None, None, None, None\n",
    "\n",
    "    # Get the exogenous data per area.\n",
    "    if exogenous_data_train is not None:\n",
    "        exogenous_data_train, exogenous_data_val = get_exogenous_data_by_area(exogenous_data_train,\n",
    "                                                                              exogenous_data_val)\n",
    "    # transform to np\n",
    "    if area_X_train is not None:\n",
    "        for area in area_X_train:\n",
    "            tmp_X_train, tmp_y_train, tmp_X_val, tmp_y_val = remove_identifiers(\n",
    "                area_X_train[area], area_y_train[area], area_X_val[area], area_y_val[area])\n",
    "            tmp_X_train, tmp_y_train = tmp_X_train.to_numpy(), tmp_y_train.to_numpy()\n",
    "            tmp_X_val, tmp_y_val = tmp_X_val.to_numpy(), tmp_y_val.to_numpy()\n",
    "            area_X_train[area] = tmp_X_train\n",
    "            area_X_val[area] = tmp_X_val\n",
    "            area_y_train[area] = tmp_y_train\n",
    "            area_y_val[area] = tmp_y_val\n",
    "    \n",
    "    if exogenous_data_train is not None:\n",
    "        for area in exogenous_data_train:\n",
    "            exogenous_data_train[area] = exogenous_data_train[area].to_numpy()\n",
    "            exogenous_data_val[area] = exogenous_data_val[area].to_numpy()\n",
    "    \n",
    "    # remove identifiers from features, targets\n",
    "    X_train, y_train, X_val, y_val = remove_identifiers(X_train, y_train, X_val, y_val)\n",
    "    assert len(X_train.columns) == len(X_val.columns)\n",
    "    \n",
    "    num_features = len(X_train.columns) // args.num_lags\n",
    "    \n",
    "    # to timeseries representation\n",
    "    X_train = to_timeseries_rep(X_train.to_numpy(), num_lags=args.num_lags,\n",
    "                                            num_features=num_features)\n",
    "    X_val = to_timeseries_rep(X_val.to_numpy(), num_lags=args.num_lags,\n",
    "                                          num_features=num_features)\n",
    "    \n",
    "    if area_X_train is not None:\n",
    "        area_X_train = to_timeseries_rep(area_X_train, num_lags=args.num_lags,\n",
    "                                                     num_features=num_features)\n",
    "        area_X_val = to_timeseries_rep(area_X_val, num_lags=args.num_lags,\n",
    "                                                   num_features=num_features)\n",
    "    \n",
    "    # transform targets to numpy\n",
    "    y_train, y_val = y_train.to_numpy(), y_val.to_numpy()\n",
    "    \n",
    "    # centralized (all) learning specific\n",
    "    if not args.filter_bs and exogenous_data_train is not None:\n",
    "        exogenous_data_train_combined, exogenous_data_val_combined = [], []\n",
    "        for area in exogenous_data_train:\n",
    "            exogenous_data_train_combined.extend(exogenous_data_train[area])\n",
    "            exogenous_data_val_combined.extend(exogenous_data_val[area])\n",
    "        exogenous_data_train_combined = np.stack(exogenous_data_train_combined)\n",
    "        exogenous_data_val_combined = np.stack(exogenous_data_val_combined)\n",
    "        exogenous_data_train[\"all\"] = exogenous_data_train_combined\n",
    "        exogenous_data_val[\"all\"] = exogenous_data_val_combined\n",
    "    return X_train, X_val, y_train, y_val, area_X_train, area_X_val, area_y_train, area_y_val, exogenous_data_train, exogenous_data_val"
   ]
  },
  {
   "cell_type": "code",
   "execution_count": 317,
   "id": "00c59dca",
   "metadata": {},
   "outputs": [],
   "source": [
    "X_train, X_val, y_train, y_val, area_X_train, area_X_val, area_y_train, area_y_val, exogenous_data_train, exogenous_data_val = make_postprocessing(X_train, X_val, y_train, y_val, exogenous_data_train, exogenous_data_val, x_scaler, y_scaler)"
   ]
  },
  {
   "cell_type": "code",
   "execution_count": 318,
   "id": "9171667b",
   "metadata": {},
   "outputs": [
    {
     "data": {
      "text/plain": "array([[[[0.05354826],\n         [0.48791841],\n         [0.45474711],\n         [0.20213203],\n         [0.0045353 ],\n         [0.18541051],\n         [0.31440371],\n         [0.22769952],\n         [0.6718834 ]],\n\n        [[0.05354826],\n         [0.48791841],\n         [0.45474711],\n         [0.20213203],\n         [0.00568348],\n         [0.18526566],\n         [0.27826533],\n         [0.19483566],\n         [0.66378844]],\n\n        [[0.05299622],\n         [0.48978066],\n         [0.4689441 ],\n         [0.17958181],\n         [0.00568348],\n         [0.18526566],\n         [0.27723283],\n         [0.19483566],\n         [0.65839171]]],\n\n\n       [[[0.05354826],\n         [0.48791841],\n         [0.45474711],\n         [0.20213203],\n         [0.00568348],\n         [0.18526566],\n         [0.27826533],\n         [0.19483566],\n         [0.66378844]],\n\n        [[0.05299622],\n         [0.48978066],\n         [0.4689441 ],\n         [0.17958181],\n         [0.00568348],\n         [0.18526566],\n         [0.27723283],\n         [0.19483566],\n         [0.65839171]],\n\n        [[0.05437633],\n         [0.48978066],\n         [0.4689441 ],\n         [0.18860188],\n         [0.00499457],\n         [0.18671417],\n         [0.32318017],\n         [0.24882627],\n         [0.67728007]]]])"
     },
     "execution_count": 318,
     "metadata": {},
     "output_type": "execute_result"
    }
   ],
   "source": [
    "X_train[:2]"
   ]
  },
  {
   "cell_type": "code",
   "execution_count": 319,
   "id": "2949d425",
   "metadata": {},
   "outputs": [
    {
     "data": {
      "text/plain": "array([[0.67728007, 0.24882627, 0.32318017, 0.18671417, 0.00499457],\n       [0.68537503, 0.24882627, 0.34744447, 0.18671417, 0.00499457]],\n      dtype=float32)"
     },
     "execution_count": 319,
     "metadata": {},
     "output_type": "execute_result"
    }
   ],
   "source": [
    "y_train[:2]"
   ]
  },
  {
   "cell_type": "code",
   "execution_count": 320,
   "id": "bf7bb251",
   "metadata": {},
   "outputs": [
    {
     "data": {
      "text/plain": "(3888, 969)"
     },
     "execution_count": 320,
     "metadata": {},
     "output_type": "execute_result"
    }
   ],
   "source": [
    "len(X_train), len(X_val)"
   ]
  },
  {
   "cell_type": "markdown",
   "id": "67a83357",
   "metadata": {},
   "source": [
    "### Define the input dimensions for the model architecture"
   ]
  },
  {
   "cell_type": "code",
   "execution_count": 321,
   "id": "e1486173",
   "metadata": {},
   "outputs": [],
   "source": [
    "def get_input_dims(X_train, exogenous_data_train):\n",
    "    if args.model_name == \"mlp\":\n",
    "        input_dim = X_train.shape[1] * X_train.shape[2]\n",
    "    else:\n",
    "        input_dim = X_train.shape[2]\n",
    "    \n",
    "    if exogenous_data_train is not None:\n",
    "        if len(exogenous_data_train) == 1:\n",
    "            cid = next(iter(exogenous_data_train.keys()))\n",
    "            exogenous_dim = exogenous_data_train[cid].shape[1]\n",
    "        else:\n",
    "            exogenous_dim = exogenous_data_train[\"all\"].shape[1]\n",
    "    else:\n",
    "        exogenous_dim = 0\n",
    "    \n",
    "    return input_dim, exogenous_dim"
   ]
  },
  {
   "cell_type": "markdown",
   "id": "be6783ff",
   "metadata": {},
   "source": [
    "### Initialize the model for training"
   ]
  },
  {
   "cell_type": "code",
   "execution_count": 322,
   "id": "5e7044d5",
   "metadata": {},
   "outputs": [],
   "source": [
    "def get_model(model: str,\n",
    "              input_dim: int,\n",
    "              out_dim: int,\n",
    "              lags: int = 10,\n",
    "              exogenous_dim: int = 0,\n",
    "              seed=0):\n",
    "    if model == \"mlp\":\n",
    "        model = MLP(input_dim=input_dim, layer_units=[256, 128, 64], num_outputs=out_dim)\n",
    "    elif model == \"rnn\":\n",
    "        model = RNN(input_dim=input_dim, rnn_hidden_size=128, num_rnn_layers=1, rnn_dropout=0.0,\n",
    "                    layer_units=[128], num_outputs=out_dim, matrix_rep=True, exogenous_dim=exogenous_dim)\n",
    "    elif model == \"lstm\":\n",
    "        model = LSTM(input_dim=input_dim, lstm_hidden_size=128, num_lstm_layers=8, lstm_dropout=0.05,\n",
    "                     layer_units=[128], num_outputs=out_dim, matrix_rep=True, exogenous_dim=exogenous_dim)\n",
    "    elif model == \"gru\":\n",
    "        model = GRU(input_dim=input_dim, gru_hidden_size=128, num_gru_layers=1, gru_dropout=0.0,\n",
    "                    layer_units=[128], num_outputs=out_dim, matrix_rep=True, exogenous_dim=exogenous_dim)\n",
    "    elif model == \"cnn\":\n",
    "        model = CNN(num_features=input_dim, lags=lags, exogenous_dim=exogenous_dim, out_dim=out_dim)\n",
    "    elif model == \"da_encoder_decoder\":\n",
    "        model = DualAttentionAutoEncoder(input_dim=input_dim, architecture=\"lstm\", matrix_rep=True)\n",
    "    else:\n",
    "        raise NotImplementedError(\"Specified model is not implemented. Plese define your own model or choose one from ['mlp', 'rnn', 'lstm', 'gru', 'cnn', 'da_encoder_decoder']\")\n",
    "    return model"
   ]
  },
  {
   "cell_type": "code",
   "execution_count": 323,
   "id": "44ed1dae",
   "metadata": {},
   "outputs": [
    {
     "name": "stdout",
     "output_type": "stream",
     "text": [
      "9 0\n"
     ]
    }
   ],
   "source": [
    "# define the model\n",
    "args.model_name = \"lstm\"\n",
    "\n",
    "input_dim, exogenous_dim = get_input_dims(X_train, exogenous_data_train)\n",
    "\n",
    "print(input_dim, exogenous_dim)\n",
    "\n",
    "model = get_model(model=args.model_name,\n",
    "                  input_dim=input_dim,\n",
    "                  out_dim=y_train.shape[1],\n",
    "                  lags=args.num_lags,\n",
    "                  exogenous_dim=exogenous_dim,\n",
    "                  seed=args.seed)"
   ]
  },
  {
   "cell_type": "code",
   "execution_count": 324,
   "id": "8f285c4b",
   "metadata": {},
   "outputs": [
    {
     "data": {
      "text/plain": "LSTM(\n  (lstm): LSTM(9, 128, num_layers=8, batch_first=True, dropout=0.05)\n  (attention): Attention(\n    (attention): Linear(in_features=128, out_features=1, bias=True)\n  )\n  (MLP_layers): Sequential(\n    (0): Linear(in_features=128, out_features=5, bias=True)\n  )\n)"
     },
     "execution_count": 324,
     "metadata": {},
     "output_type": "execute_result"
    }
   ],
   "source": [
    "model"
   ]
  },
  {
   "cell_type": "markdown",
   "id": "f2473d72",
   "metadata": {},
   "source": [
    "### The fit function used to train the model specified above"
   ]
  },
  {
   "cell_type": "code",
   "execution_count": 325,
   "id": "6b11fc63",
   "metadata": {},
   "outputs": [],
   "source": [
    "def fit(model, X_train, y_train, X_val, y_val, \n",
    "        exogenous_data_train=None, exogenous_data_val=None, \n",
    "        idxs=[0,1,3,7,8], # the indices of our targets in X\n",
    "        log_per=1):\n",
    "    \n",
    "    # get exogenous data (if any)\n",
    "    if exogenous_data_train is not None and len(exogenous_data_train) > 1:\n",
    "        exogenous_data_train = exogenous_data_train[\"all\"]\n",
    "        exogenous_data_val = exogenous_data_val[\"all\"]\n",
    "    elif exogenous_data_train is not None and len(exogenous_data_train) == 1:\n",
    "        cid = next(iter(exogenous_data_train.keys()))\n",
    "        exogenous_data_train = exogenous_data_train[cid]\n",
    "        exogenous_data_val = exogenous_data_val[cid]\n",
    "    else:\n",
    "        exogenous_data_train = None\n",
    "        exogenous_data_val = None\n",
    "    num_features = len(X_train[0][0])\n",
    "    \n",
    "    # to torch loader\n",
    "    train_loader = to_torch_dataset(X_train, y_train,\n",
    "                                    num_lags=args.num_lags,\n",
    "                                    num_features=num_features,\n",
    "                                    exogenous_data=exogenous_data_train,\n",
    "                                    indices=idxs,\n",
    "                                    batch_size=args.batch_size, \n",
    "                                    shuffle=False)\n",
    "    val_loader = to_torch_dataset(X_val, y_val, \n",
    "                                  num_lags=args.num_lags,\n",
    "                                  num_features=num_features,\n",
    "                                  exogenous_data=exogenous_data_val,\n",
    "                                  indices=idxs,\n",
    "                                  batch_size=args.batch_size,\n",
    "                                  shuffle=False)\n",
    "    \n",
    "    # train the model\n",
    "    model = train(model, \n",
    "                  train_loader, val_loader,\n",
    "                  epochs=args.epochs,\n",
    "                  optimizer=args.optimizer, lr=args.lr,\n",
    "                  criterion=args.criterion,\n",
    "                  early_stopping=args.early_stopping,\n",
    "                  patience=args.patience,\n",
    "                  plot_history=args.plot_history, \n",
    "                  device=device, log_per=log_per)\n",
    "    \n",
    "    return model"
   ]
  },
  {
   "cell_type": "code",
   "execution_count": 326,
   "id": "681cc512",
   "metadata": {
    "scrolled": true
   },
   "outputs": [
    {
     "name": "stderr",
     "output_type": "stream",
     "text": [
      "INFO logger 2024-06-02 23:21:56,734 | train_utils.py:97 | Epoch 1 [Train]: loss 0.05865152681907339, mse: 0.02322840318083763, rmse: 0.15240867160643332, mae 0.10988966375589371, r2: -1.147909506756787, nrmse: 1.4699149091937143\n",
      "INFO logger 2024-06-02 23:21:56,735 | train_utils.py:99 | Epoch 1 [Test]: loss 0.00012757915713208255, mse: 0.01367003284394741, rmse: 0.1169189156806862, mae 0.08653756976127625, r2: -2.5981366065865403, nrmse: 1.3976031207227664\n",
      "INFO logger 2024-06-02 23:21:56,735 | helpers.py:148 | Validation loss decreased (inf --> 0.000128). Caching model ...\n",
      "INFO logger 2024-06-02 23:21:57,065 | train_utils.py:97 | Epoch 2 [Train]: loss 0.01927085690981438, mse: 0.01715301349759102, rmse: 0.13096951361897555, mae 0.09176528453826904, r2: -0.41050024921802486, nrmse: 1.1612625549991442\n",
      "INFO logger 2024-06-02 23:21:57,066 | train_utils.py:99 | Epoch 2 [Test]: loss 0.00011575040268116814, mse: 0.013189585879445076, rmse: 0.11484592234574581, mae 0.08533960580825806, r2: -1.3049158830031167, nrmse: 0.967575692883282\n",
      "INFO logger 2024-06-02 23:21:57,066 | helpers.py:148 | Validation loss decreased (0.000128 --> 0.000116). Caching model ...\n",
      "INFO logger 2024-06-02 23:21:57,403 | train_utils.py:97 | Epoch 3 [Train]: loss 0.019252830184996128, mse: 0.016629086807370186, rmse: 0.12895381656767738, mae 0.08839041739702225, r2: -0.16248784795097762, nrmse: 1.0859140561784593\n",
      "INFO logger 2024-06-02 23:21:57,404 | train_utils.py:99 | Epoch 3 [Test]: loss 0.00011691894628284393, mse: 0.013509610667824745, rmse: 0.11623085075755381, mae 0.08355738967657089, r2: -0.6519725561370094, nrmse: 0.8550919894210605\n",
      "INFO logger 2024-06-02 23:21:57,405 | helpers.py:136 | EarlyStopping counter: 1 out of 80\n",
      "INFO logger 2024-06-02 23:21:57,737 | train_utils.py:97 | Epoch 4 [Train]: loss 0.019230210988391793, mse: 0.016527218744158745, rmse: 0.12855823094675325, mae 0.08778085559606552, r2: -0.11079671304360406, nrmse: 1.0822676151632051\n",
      "INFO logger 2024-06-02 23:21:57,738 | train_utils.py:99 | Epoch 4 [Test]: loss 0.00011611510629470627, mse: 0.01340958196669817, rmse: 0.11579974942415967, mae 0.08261572569608688, r2: -0.5065742789792735, nrmse: 0.8540970998650399\n",
      "INFO logger 2024-06-02 23:21:57,739 | helpers.py:136 | EarlyStopping counter: 2 out of 80\n",
      "INFO logger 2024-06-02 23:21:58,221 | train_utils.py:97 | Epoch 5 [Train]: loss 0.019186244481393406, mse: 0.016488652676343918, rmse: 0.1284081487926055, mae 0.08755325525999069, r2: -0.09377330259087731, nrmse: 1.083563205560351\n",
      "INFO logger 2024-06-02 23:21:58,221 | train_utils.py:99 | Epoch 5 [Test]: loss 0.00011633440056360174, mse: 0.013430829159915447, rmse: 0.11589145421434424, mae 0.08254607021808624, r2: -0.46465461470130676, nrmse: 0.858286275343372\n",
      "INFO logger 2024-06-02 23:21:58,222 | helpers.py:136 | EarlyStopping counter: 3 out of 80\n",
      "INFO logger 2024-06-02 23:21:58,543 | train_utils.py:97 | Epoch 6 [Train]: loss 0.01913423472715001, mse: 0.016458088532090187, rmse: 0.12828908188965338, mae 0.08735713362693787, r2: -0.07953112603216987, nrmse: 1.0841054177325544\n",
      "INFO logger 2024-06-02 23:21:58,544 | train_utils.py:99 | Epoch 6 [Test]: loss 0.0001165005460120084, mse: 0.013445764780044556, rmse: 0.11595587428002324, mae 0.08243720978498459, r2: -0.429820056938083, nrmse: 0.8606874455249007\n",
      "INFO logger 2024-06-02 23:21:58,544 | helpers.py:136 | EarlyStopping counter: 4 out of 80\n",
      "INFO logger 2024-06-02 23:21:58,872 | train_utils.py:97 | Epoch 7 [Train]: loss 0.019059131703069134, mse: 0.016434762626886368, rmse: 0.12819813815686393, mae 0.08725059777498245, r2: -0.06955235880399235, nrmse: 1.087327366182753\n",
      "INFO logger 2024-06-02 23:21:58,872 | train_utils.py:99 | Epoch 7 [Test]: loss 0.0001165581255828264, mse: 0.013447897508740425, rmse: 0.11596507020969903, mae 0.0823199599981308, r2: -0.40515650355910376, nrmse: 0.8673935784270772\n",
      "INFO logger 2024-06-02 23:21:58,873 | helpers.py:136 | EarlyStopping counter: 5 out of 80\n",
      "INFO logger 2024-06-02 23:21:59,200 | train_utils.py:97 | Epoch 8 [Train]: loss 0.018981723054762808, mse: 0.016416622325778008, rmse: 0.12812736759091714, mae 0.0871998593211174, r2: -0.06189475529596411, nrmse: 1.091115714274675\n",
      "INFO logger 2024-06-02 23:21:59,200 | train_utils.py:99 | Epoch 8 [Test]: loss 0.00011675061813725776, mse: 0.013472281396389008, rmse: 0.1160701572170427, mae 0.0822996124625206, r2: -0.38798759774828284, nrmse: 0.8747421260293443\n",
      "INFO logger 2024-06-02 23:21:59,200 | helpers.py:136 | EarlyStopping counter: 6 out of 80\n",
      "INFO logger 2024-06-02 23:21:59,523 | train_utils.py:97 | Epoch 9 [Train]: loss 0.01887353894210631, mse: 0.01640455611050129, rmse: 0.1280802721362712, mae 0.08713816851377487, r2: -0.05617250014706254, nrmse: 1.0920627639149085\n",
      "INFO logger 2024-06-02 23:21:59,524 | train_utils.py:99 | Epoch 9 [Test]: loss 0.00011680389670856966, mse: 0.01347699761390686, rmse: 0.11609047167578768, mae 0.08221975713968277, r2: -0.37489926499444387, nrmse: 0.8769143712478701\n",
      "INFO logger 2024-06-02 23:21:59,525 | helpers.py:136 | EarlyStopping counter: 7 out of 80\n",
      "INFO logger 2024-06-02 23:21:59,850 | train_utils.py:97 | Epoch 10 [Train]: loss 0.018798108708353772, mse: 0.01639668643474579, rmse: 0.1280495467963311, mae 0.08713344484567642, r2: -0.05296153103355765, nrmse: 1.0953485809646855\n",
      "INFO logger 2024-06-02 23:21:59,850 | train_utils.py:99 | Epoch 10 [Test]: loss 0.00011698443296493268, mse: 0.013501319102942944, rmse: 0.11619517676281982, mae 0.08226670324802399, r2: -0.3691570656924266, nrmse: 0.8828806449273361\n",
      "INFO logger 2024-06-02 23:21:59,851 | helpers.py:136 | EarlyStopping counter: 8 out of 80\n",
      "INFO logger 2024-06-02 23:22:00,171 | train_utils.py:97 | Epoch 11 [Train]: loss 0.01873097663384772, mse: 0.01638750545680523, rmse: 0.12801369245828834, mae 0.08711540699005127, r2: -0.04951035058654698, nrmse: 1.097006352124776\n",
      "INFO logger 2024-06-02 23:22:00,172 | train_utils.py:99 | Epoch 11 [Test]: loss 0.00011699902272415112, mse: 0.013503951951861382, rmse: 0.11620650563484551, mae 0.08222948014736176, r2: -0.3617217616727036, nrmse: 0.8860510690292716\n",
      "INFO logger 2024-06-02 23:22:00,172 | helpers.py:136 | EarlyStopping counter: 9 out of 80\n",
      "INFO logger 2024-06-02 23:22:00,498 | train_utils.py:97 | Epoch 12 [Train]: loss 0.01866049591391798, mse: 0.016381647437810898, rmse: 0.1279908099740403, mae 0.08711250871419907, r2: -0.046678052050615995, nrmse: 1.0990699984023717\n",
      "INFO logger 2024-06-02 23:22:00,499 | train_utils.py:99 | Epoch 12 [Test]: loss 0.00011716046830941034, mse: 0.013528628274798393, rmse: 0.11631263162184231, mae 0.08226000517606735, r2: -0.35743695587460417, nrmse: 0.889858742930572\n",
      "INFO logger 2024-06-02 23:22:00,499 | helpers.py:136 | EarlyStopping counter: 10 out of 80\n",
      "INFO logger 2024-06-02 23:22:00,830 | train_utils.py:97 | Epoch 13 [Train]: loss 0.01858642245192201, mse: 0.016376975923776627, rmse: 0.127972559260869, mae 0.08712710440158844, r2: -0.045258138800035, nrmse: 1.1016625885741487\n",
      "INFO logger 2024-06-02 23:22:00,831 | train_utils.py:99 | Epoch 13 [Test]: loss 0.00011724221805577676, mse: 0.013541263528168201, rmse: 0.11636693485766565, mae 0.08227945864200592, r2: -0.3555932307577, nrmse: 0.8944069199576024\n",
      "INFO logger 2024-06-02 23:22:00,831 | helpers.py:136 | EarlyStopping counter: 11 out of 80\n",
      "INFO logger 2024-06-02 23:22:01,165 | train_utils.py:97 | Epoch 14 [Train]: loss 0.018521472361058958, mse: 0.016373205929994583, rmse: 0.12795782871709954, mae 0.0871560126543045, r2: -0.044596864059619226, nrmse: 1.10504648169722\n",
      "INFO logger 2024-06-02 23:22:01,165 | train_utils.py:99 | Epoch 14 [Test]: loss 0.00011728870537289648, mse: 0.013549955561757088, rmse: 0.11640427638947415, mae 0.0822952389717102, r2: -0.3552708812181216, nrmse: 0.9001876736250836\n",
      "INFO logger 2024-06-02 23:22:01,166 | helpers.py:136 | EarlyStopping counter: 12 out of 80\n",
      "INFO logger 2024-06-02 23:22:01,494 | train_utils.py:97 | Epoch 15 [Train]: loss 0.018467206928518512, mse: 0.016370641067624092, rmse: 0.12794780602895892, mae 0.08718972653150558, r2: -0.044534888015223116, nrmse: 1.1087731556560356\n",
      "INFO logger 2024-06-02 23:22:01,494 | train_utils.py:99 | Epoch 15 [Test]: loss 0.00011733979836367725, mse: 0.013558829203248024, rmse: 0.11644238576758904, mae 0.08231991529464722, r2: -0.3563207844962633, nrmse: 0.9064405297696554\n",
      "INFO logger 2024-06-02 23:22:01,495 | helpers.py:136 | EarlyStopping counter: 13 out of 80\n",
      "INFO logger 2024-06-02 23:22:01,818 | train_utils.py:97 | Epoch 16 [Train]: loss 0.01839535079535938, mse: 0.016368988901376724, rmse: 0.12794134945894828, mae 0.08719895780086517, r2: -0.04283495590197402, nrmse: 1.1090318817816542\n",
      "INFO logger 2024-06-02 23:22:01,819 | train_utils.py:99 | Epoch 16 [Test]: loss 0.00011750818994299916, mse: 0.013586072251200676, rmse: 0.1165593078702884, mae 0.0823623463511467, r2: -0.35493731854285027, nrmse: 0.9071239864333824\n",
      "INFO logger 2024-06-02 23:22:01,819 | helpers.py:136 | EarlyStopping counter: 14 out of 80\n",
      "INFO logger 2024-06-02 23:22:02,206 | train_utils.py:97 | Epoch 17 [Train]: loss 0.0183646269743481, mse: 0.01636577397584915, rmse: 0.12792878478219494, mae 0.08722274750471115, r2: -0.04307509763583166, nrmse: 1.1124277349036695\n",
      "INFO logger 2024-06-02 23:22:02,207 | train_utils.py:99 | Epoch 17 [Test]: loss 0.00011742421136582722, mse: 0.013575265184044838, rmse: 0.11651293998541466, mae 0.08232692629098892, r2: -0.3555121737956507, nrmse: 0.912760757795234\n",
      "INFO logger 2024-06-02 23:22:02,207 | helpers.py:136 | EarlyStopping counter: 15 out of 80\n",
      "INFO logger 2024-06-02 23:22:02,526 | train_utils.py:97 | Epoch 18 [Train]: loss 0.01832645969285119, mse: 0.016364624723792076, rmse: 0.12792429293840976, mae 0.08724577724933624, r2: -0.0429405418543257, nrmse: 1.1149128890006017\n",
      "INFO logger 2024-06-02 23:22:02,526 | train_utils.py:99 | Epoch 18 [Test]: loss 0.00011748300674991341, mse: 0.013585230335593224, rmse: 0.11655569628119092, mae 0.08234750479459763, r2: -0.3566539340474849, nrmse: 0.9169432909758035\n",
      "INFO logger 2024-06-02 23:22:02,527 | helpers.py:136 | EarlyStopping counter: 16 out of 80\n",
      "INFO logger 2024-06-02 23:22:02,854 | train_utils.py:97 | Epoch 19 [Train]: loss 0.018267634745326736, mse: 0.01636248454451561, rmse: 0.1279159276420087, mae 0.08727075904607773, r2: -0.04343141359285685, nrmse: 1.1179053024164571\n",
      "INFO logger 2024-06-02 23:22:02,855 | train_utils.py:99 | Epoch 19 [Test]: loss 0.00011742980122350932, mse: 0.01357867568731308, rmse: 0.11652757479375034, mae 0.0823332816362381, r2: -0.35794480020572317, nrmse: 0.9218460961218041\n",
      "INFO logger 2024-06-02 23:22:02,856 | helpers.py:136 | EarlyStopping counter: 17 out of 80\n",
      "INFO logger 2024-06-02 23:22:03,181 | train_utils.py:97 | Epoch 20 [Train]: loss 0.01822698098276892, mse: 0.01636459305882454, rmse: 0.12792416917386853, mae 0.08730725944042206, r2: -0.04350144330233121, nrmse: 1.1200425069820432\n",
      "INFO logger 2024-06-02 23:22:03,181 | train_utils.py:99 | Epoch 20 [Test]: loss 0.00011764283765826309, mse: 0.013611818663775921, rmse: 0.11666969899582291, mae 0.08242811262607574, r2: -0.3609346111168126, nrmse: 0.9254376576021598\n",
      "INFO logger 2024-06-02 23:22:03,181 | helpers.py:136 | EarlyStopping counter: 18 out of 80\n",
      "INFO logger 2024-06-02 23:22:03,504 | train_utils.py:97 | Epoch 21 [Train]: loss 0.018198905993373163, mse: 0.016362695023417473, rmse: 0.1279167503629508, mae 0.0873287096619606, r2: -0.043850212512496475, nrmse: 1.122734433287492\n",
      "INFO logger 2024-06-02 23:22:03,504 | train_utils.py:99 | Epoch 21 [Test]: loss 0.00011755633230395116, mse: 0.013601323589682579, rmse: 0.11662471260278663, mae 0.08239109814167023, r2: -0.36186323596589137, nrmse: 0.9298572011115128\n",
      "INFO logger 2024-06-02 23:22:03,504 | helpers.py:136 | EarlyStopping counter: 19 out of 80\n",
      "INFO logger 2024-06-02 23:22:03,829 | train_utils.py:97 | Epoch 22 [Train]: loss 0.01814770216362611, mse: 0.01636313460767269, rmse: 0.12791846859493233, mae 0.0873618870973587, r2: -0.04467586724527717, nrmse: 1.125825878688234\n",
      "INFO logger 2024-06-02 23:22:03,830 | train_utils.py:99 | Epoch 22 [Test]: loss 0.00011761292288516205, mse: 0.013610552065074444, rmse: 0.11666427073047876, mae 0.08243094384670258, r2: -0.36495246807373977, nrmse: 0.9348621938904342\n",
      "INFO logger 2024-06-02 23:22:03,830 | helpers.py:136 | EarlyStopping counter: 20 out of 80\n",
      "INFO logger 2024-06-02 23:22:04,162 | train_utils.py:97 | Epoch 23 [Train]: loss 0.018103800924314607, mse: 0.01636301912367344, rmse: 0.1279180171972402, mae 0.08737912029027939, r2: -0.0446952508775982, nrmse: 1.1270525622021121\n",
      "INFO logger 2024-06-02 23:22:04,163 | train_utils.py:99 | Epoch 23 [Test]: loss 0.00011763151954202091, mse: 0.013614985160529613, rmse: 0.11668326855436308, mae 0.08243818581104279, r2: -0.3658913472399395, nrmse: 0.9369267041379732\n",
      "INFO logger 2024-06-02 23:22:04,163 | helpers.py:136 | EarlyStopping counter: 21 out of 80\n",
      "INFO logger 2024-06-02 23:22:04,485 | train_utils.py:97 | Epoch 24 [Train]: loss 0.01807921247616891, mse: 0.01636320725083351, rmse: 0.12791875253782578, mae 0.08740438520908356, r2: -0.04536439064368318, nrmse: 1.1294840740614271\n",
      "INFO logger 2024-06-02 23:22:04,485 | train_utils.py:99 | Epoch 24 [Test]: loss 0.0001176303383289722, mse: 0.01361631415784359, rmse: 0.11668896330777641, mae 0.08244553953409195, r2: -0.36808166610032134, nrmse: 0.9408548437565482\n",
      "INFO logger 2024-06-02 23:22:04,485 | helpers.py:136 | EarlyStopping counter: 22 out of 80\n",
      "INFO logger 2024-06-02 23:22:04,809 | train_utils.py:97 | Epoch 25 [Train]: loss 0.01805355109935326, mse: 0.016363348811864853, rmse: 0.12791930586062783, mae 0.08743871748447418, r2: -0.04654749556835695, nrmse: 1.1328855178822625\n",
      "INFO logger 2024-06-02 23:22:04,809 | train_utils.py:99 | Epoch 25 [Test]: loss 0.00011764416784447905, mse: 0.01361915934830904, rmse: 0.11670115401446997, mae 0.08247262239456177, r2: -0.3714632507158175, nrmse: 0.9462514119066416\n",
      "INFO logger 2024-06-02 23:22:04,811 | helpers.py:136 | EarlyStopping counter: 23 out of 80\n",
      "INFO logger 2024-06-02 23:22:05,132 | train_utils.py:97 | Epoch 26 [Train]: loss 0.01802039105865744, mse: 0.016363635659217834, rmse: 0.12792042706001974, mae 0.08746780455112457, r2: -0.04744091172202267, nrmse: 1.1357025001159202\n",
      "INFO logger 2024-06-02 23:22:05,132 | train_utils.py:99 | Epoch 26 [Test]: loss 0.0001176368566258773, mse: 0.01361954677850008, rmse: 0.11670281392708609, mae 0.0824798196554184, r2: -0.3741591360905613, nrmse: 0.9507509043843533\n",
      "INFO logger 2024-06-02 23:22:05,133 | helpers.py:136 | EarlyStopping counter: 24 out of 80\n",
      "INFO logger 2024-06-02 23:22:05,454 | train_utils.py:97 | Epoch 27 [Train]: loss 0.017989138802213055, mse: 0.01636372320353985, rmse: 0.1279207692422925, mae 0.08749121427536011, r2: -0.0481724610401838, nrmse: 1.13793060906441\n",
      "INFO logger 2024-06-02 23:22:05,455 | train_utils.py:99 | Epoch 27 [Test]: loss 0.0001176277529236825, mse: 0.013619355857372284, rmse: 0.11670199594425232, mae 0.08248551934957504, r2: -0.3763122173316516, nrmse: 0.9542944559309195\n",
      "INFO logger 2024-06-02 23:22:05,455 | helpers.py:136 | EarlyStopping counter: 25 out of 80\n",
      "INFO logger 2024-06-02 23:22:05,774 | train_utils.py:97 | Epoch 28 [Train]: loss 0.01795227654398449, mse: 0.016366099938750267, rmse: 0.12793005877724856, mae 0.08753499388694763, r2: -0.04957644971682418, nrmse: 1.14132257040854\n",
      "INFO logger 2024-06-02 23:22:05,774 | train_utils.py:99 | Epoch 28 [Test]: loss 0.00011771191891871, mse: 0.01363294292241335, rmse: 0.11676019408348613, mae 0.0825447365641594, r2: -0.38070349773623213, nrmse: 0.9596189746102255\n",
      "INFO logger 2024-06-02 23:22:05,775 | helpers.py:136 | EarlyStopping counter: 26 out of 80\n",
      "INFO logger 2024-06-02 23:22:06,158 | train_utils.py:97 | Epoch 29 [Train]: loss 0.017944886965016203, mse: 0.0163649283349514, rmse: 0.12792547961587403, mae 0.0875503197312355, r2: -0.05026476910026138, nrmse: 1.1434694181201042\n",
      "INFO logger 2024-06-02 23:22:06,159 | train_utils.py:99 | Epoch 29 [Test]: loss 0.00011763270267730404, mse: 0.01362262200564146, rmse: 0.11671598864612107, mae 0.08251465857028961, r2: -0.3822406634808818, nrmse: 0.9630141626622704\n",
      "INFO logger 2024-06-02 23:22:06,160 | helpers.py:136 | EarlyStopping counter: 27 out of 80\n",
      "INFO logger 2024-06-02 23:22:06,481 | train_utils.py:97 | Epoch 30 [Train]: loss 0.01791824932180105, mse: 0.01636556163430214, rmse: 0.12792795485859274, mae 0.08757990598678589, r2: -0.05156829241003354, nrmse: 1.146761439904407\n",
      "INFO logger 2024-06-02 23:22:06,482 | train_utils.py:99 | Epoch 30 [Test]: loss 0.00011763753229127457, mse: 0.01362388115376234, rmse: 0.11672138259017642, mae 0.08253186196088791, r2: -0.38588799976974153, nrmse: 0.9681504090957452\n",
      "INFO logger 2024-06-02 23:22:06,482 | helpers.py:136 | EarlyStopping counter: 28 out of 80\n",
      "INFO logger 2024-06-02 23:22:06,828 | train_utils.py:97 | Epoch 31 [Train]: loss 0.017884951385278857, mse: 0.016365747898817062, rmse: 0.12792868286204256, mae 0.08760903775691986, r2: -0.052531496693743684, nrmse: 1.1491510865142072\n",
      "INFO logger 2024-06-02 23:22:06,829 | train_utils.py:99 | Epoch 31 [Test]: loss 0.00011764129987073018, mse: 0.013625924475491047, rmse: 0.11673013525003322, mae 0.0825500562787056, r2: -0.3885073803838548, nrmse: 0.9718465111837273\n",
      "INFO logger 2024-06-02 23:22:06,829 | helpers.py:136 | EarlyStopping counter: 29 out of 80\n",
      "INFO logger 2024-06-02 23:22:07,155 | train_utils.py:97 | Epoch 32 [Train]: loss 0.017870607034813975, mse: 0.01636352762579918, rmse: 0.1279200047912725, mae 0.08762584626674652, r2: -0.053579891360933815, nrmse: 1.151866692547351\n",
      "INFO logger 2024-06-02 23:22:07,156 | train_utils.py:99 | Epoch 32 [Test]: loss 0.00011758491112413299, mse: 0.01361885480582714, rmse: 0.11669984921081578, mae 0.08254091441631317, r2: -0.3909154328880176, nrmse: 0.9759632945052987\n",
      "INFO logger 2024-06-02 23:22:07,156 | helpers.py:136 | EarlyStopping counter: 30 out of 80\n",
      "INFO logger 2024-06-02 23:22:07,486 | train_utils.py:97 | Epoch 33 [Train]: loss 0.017832575681348963, mse: 0.01635466143488884, rmse: 0.12788534487926612, mae 0.08763561397790909, r2: -0.05473335135153039, nrmse: 1.1553848277411507\n",
      "INFO logger 2024-06-02 23:22:07,486 | train_utils.py:99 | Epoch 33 [Test]: loss 0.00011752833688191462, mse: 0.013613611459732056, rmse: 0.11667738195439618, mae 0.08254595100879669, r2: -0.3941934031759116, nrmse: 0.9810328288483172\n",
      "INFO logger 2024-06-02 23:22:07,487 | helpers.py:136 | EarlyStopping counter: 31 out of 80\n",
      "INFO logger 2024-06-02 23:22:07,810 | train_utils.py:97 | Epoch 34 [Train]: loss 0.01777737201642125, mse: 0.01611507497727871, rmse: 0.12694516523790383, mae 0.08710360527038574, r2: -0.048142019732699916, nrmse: 1.1611590759290755\n",
      "INFO logger 2024-06-02 23:22:07,810 | train_utils.py:99 | Epoch 34 [Test]: loss 0.00011605731720033691, mse: 0.013459712266921997, rmse: 0.11601600004707108, mae 0.08217604458332062, r2: -0.3880763481145345, nrmse: 0.9852926769563001\n",
      "INFO logger 2024-06-02 23:22:07,811 | helpers.py:136 | EarlyStopping counter: 32 out of 80\n",
      "INFO logger 2024-06-02 23:22:08,139 | train_utils.py:97 | Epoch 35 [Train]: loss 0.01639946443479388, mse: 0.01222640834748745, rmse: 0.11057309052155252, mae 0.08010159432888031, r2: -0.1372546520114675, nrmse: 1.3165369993284104\n",
      "INFO logger 2024-06-02 23:22:08,140 | train_utils.py:99 | Epoch 35 [Test]: loss 9.648464293333523e-05, mse: 0.011524159461259842, rmse: 0.10735063791734002, mae 0.077088363468647, r2: -0.5373933487833333, nrmse: 1.166175220322334\n",
      "INFO logger 2024-06-02 23:22:08,140 | helpers.py:148 | Validation loss decreased (0.000116 --> 0.000096). Caching model ...\n",
      "INFO logger 2024-06-02 23:22:08,470 | train_utils.py:97 | Epoch 36 [Train]: loss 0.011840499021233089, mse: 0.009939830750226974, rmse: 0.09969869984220944, mae 0.06885403394699097, r2: 0.1532663725418108, nrmse: 1.0619891564714394\n",
      "INFO logger 2024-06-02 23:22:08,470 | train_utils.py:99 | Epoch 36 [Test]: loss 7.336096976517524e-05, mse: 0.008664742112159729, rmse: 0.09308459653540821, mae 0.06416443735361099, r2: -0.053806664104843936, nrmse: 0.8173171050335647\n",
      "INFO logger 2024-06-02 23:22:08,471 | helpers.py:148 | Validation loss decreased (0.000096 --> 0.000073). Caching model ...\n",
      "INFO logger 2024-06-02 23:22:08,792 | train_utils.py:97 | Epoch 37 [Train]: loss 0.011034446813526654, mse: 0.009129276499152184, rmse: 0.0955472474703075, mae 0.06548689305782318, r2: 0.1612131968424262, nrmse: 1.1400051361807304\n",
      "INFO logger 2024-06-02 23:22:08,793 | train_utils.py:99 | Epoch 37 [Test]: loss 6.857559986420215e-05, mse: 0.008034532889723778, rmse: 0.08963555594586212, mae 0.06175214797258377, r2: -0.07981245285116638, nrmse: 0.9409768770020915\n",
      "INFO logger 2024-06-02 23:22:08,793 | helpers.py:148 | Validation loss decreased (0.000073 --> 0.000069). Caching model ...\n",
      "INFO logger 2024-06-02 23:22:09,151 | train_utils.py:97 | Epoch 38 [Train]: loss 0.01082574631718378, mse: 0.009601118043065071, rmse: 0.0979852950348422, mae 0.06797715276479721, r2: 0.12867567355286774, nrmse: 1.160086985423475\n",
      "INFO logger 2024-06-02 23:22:09,152 | train_utils.py:99 | Epoch 38 [Test]: loss 7.233785785411718e-05, mse: 0.008562187664210796, rmse: 0.09253208991593563, mae 0.06410206109285355, r2: -0.18557150316779797, nrmse: 1.0016241270548045\n",
      "INFO logger 2024-06-02 23:22:09,152 | helpers.py:136 | EarlyStopping counter: 1 out of 80\n",
      "INFO logger 2024-06-02 23:22:09,475 | train_utils.py:97 | Epoch 39 [Train]: loss 0.010000444156297993, mse: 0.008598202839493752, rmse: 0.09272649480862388, mae 0.06348033249378204, r2: 0.18042118106954672, nrmse: 1.1354142265294542\n",
      "INFO logger 2024-06-02 23:22:09,476 | train_utils.py:99 | Epoch 39 [Test]: loss 6.720347650026205e-05, mse: 0.007904206402599812, rmse: 0.08890560388749301, mae 0.06187000870704651, r2: -0.062049011747319006, nrmse: 0.9381144028652856\n",
      "INFO logger 2024-06-02 23:22:09,477 | helpers.py:148 | Validation loss decreased (0.000069 --> 0.000067). Caching model ...\n",
      "INFO logger 2024-06-02 23:22:09,793 | train_utils.py:97 | Epoch 40 [Train]: loss 0.00968899474208874, mse: 0.00849266815930605, rmse: 0.09215567350579154, mae 0.06438851356506348, r2: 0.1821789684512139, nrmse: 1.131555366529761\n",
      "INFO logger 2024-06-02 23:22:09,793 | train_utils.py:99 | Epoch 40 [Test]: loss 6.600403177895044e-05, mse: 0.007751355413347483, rmse: 0.08804178220224465, mae 0.06055310368537903, r2: -0.08828860312242706, nrmse: 0.9677958462767562\n",
      "INFO logger 2024-06-02 23:22:09,794 | helpers.py:148 | Validation loss decreased (0.000067 --> 0.000066). Caching model ...\n",
      "INFO logger 2024-06-02 23:22:10,194 | train_utils.py:97 | Epoch 41 [Train]: loss 0.009632803304421325, mse: 0.008341968059539795, rmse: 0.09133437501587119, mae 0.062644824385643, r2: 0.18494586763138487, nrmse: 1.1345915069061734\n",
      "INFO logger 2024-06-02 23:22:10,195 | train_utils.py:99 | Epoch 41 [Test]: loss 6.635116689076303e-05, mse: 0.007843216881155968, rmse: 0.08856193810636694, mae 0.06216973066329956, r2: -0.08479509793450299, nrmse: 0.9581982394057236\n",
      "INFO logger 2024-06-02 23:22:10,195 | helpers.py:136 | EarlyStopping counter: 1 out of 80\n",
      "INFO logger 2024-06-02 23:22:10,523 | train_utils.py:97 | Epoch 42 [Train]: loss 0.009267341938891237, mse: 0.00823142658919096, rmse: 0.09072720975093944, mae 0.06302247196435928, r2: 0.18428460380073072, nrmse: 1.1347506763404789\n",
      "INFO logger 2024-06-02 23:22:10,523 | train_utils.py:99 | Epoch 42 [Test]: loss 6.405962126519843e-05, mse: 0.00758582865819335, rmse: 0.0870966627270721, mae 0.05992717668414116, r2: -0.07736518638672482, nrmse: 0.951697408500998\n",
      "INFO logger 2024-06-02 23:22:10,524 | helpers.py:148 | Validation loss decreased (0.000066 --> 0.000064). Caching model ...\n",
      "INFO logger 2024-06-02 23:22:10,858 | train_utils.py:97 | Epoch 43 [Train]: loss 0.009044536385655163, mse: 0.00771154323592782, rmse: 0.08781539293271892, mae 0.060820043087005615, r2: 0.20478183882224474, nrmse: 1.1363049630558761\n",
      "INFO logger 2024-06-02 23:22:10,860 | train_utils.py:99 | Epoch 43 [Test]: loss 6.35744423304672e-05, mse: 0.0075462982058525085, rmse: 0.08686943194157833, mae 0.060905713587999344, r2: -0.0709715202095406, nrmse: 0.9600785187132441\n",
      "INFO logger 2024-06-02 23:22:10,862 | helpers.py:148 | Validation loss decreased (0.000064 --> 0.000064). Caching model ...\n",
      "INFO logger 2024-06-02 23:22:11,199 | train_utils.py:97 | Epoch 44 [Train]: loss 0.008637966576873535, mse: 0.007453171070665121, rmse: 0.08633175007298949, mae 0.0601857528090477, r2: 0.22579837766670013, nrmse: 1.1106075403740763\n",
      "INFO logger 2024-06-02 23:22:11,201 | train_utils.py:99 | Epoch 44 [Test]: loss 6.146874385467808e-05, mse: 0.007285545114427805, rmse: 0.08535540471714609, mae 0.05877980589866638, r2: -0.03781904049721123, nrmse: 0.9374777702882899\n",
      "INFO logger 2024-06-02 23:22:11,202 | helpers.py:148 | Validation loss decreased (0.000064 --> 0.000061). Caching model ...\n",
      "INFO logger 2024-06-02 23:22:11,523 | train_utils.py:97 | Epoch 45 [Train]: loss 0.008571432167363743, mse: 0.007416633423417807, rmse: 0.08611987821297593, mae 0.06014271825551987, r2: 0.22472112509916253, nrmse: 1.1061161247724995\n",
      "INFO logger 2024-06-02 23:22:11,527 | train_utils.py:99 | Epoch 45 [Test]: loss 6.0203297292454204e-05, mse: 0.007173547986894846, rmse: 0.08469680033445683, mae 0.05805325508117676, r2: -0.0318664220517779, nrmse: 0.917087883694689\n",
      "INFO logger 2024-06-02 23:22:11,528 | helpers.py:148 | Validation loss decreased (0.000061 --> 0.000060). Caching model ...\n",
      "INFO logger 2024-06-02 23:22:11,845 | train_utils.py:97 | Epoch 46 [Train]: loss 0.008227832664194848, mse: 0.007191908545792103, rmse: 0.08480512098801642, mae 0.0593373104929924, r2: 0.24372664015146142, nrmse: 1.0942513896993469\n",
      "INFO logger 2024-06-02 23:22:11,845 | train_utils.py:99 | Epoch 46 [Test]: loss 5.996581700402701e-05, mse: 0.007128586061298847, rmse: 0.0844309544023923, mae 0.05801599100232124, r2: -0.010354818790501975, nrmse: 0.9115778499530538\n",
      "INFO logger 2024-06-02 23:22:11,846 | helpers.py:148 | Validation loss decreased (0.000060 --> 0.000060). Caching model ...\n",
      "INFO logger 2024-06-02 23:22:12,171 | train_utils.py:97 | Epoch 47 [Train]: loss 0.008049594621444422, mse: 0.007031673099845648, rmse: 0.08385507199833322, mae 0.0581292100250721, r2: 0.23235425041984864, nrmse: 1.1271374250402153\n",
      "INFO logger 2024-06-02 23:22:12,172 | train_utils.py:99 | Epoch 47 [Test]: loss 5.989213463522578e-05, mse: 0.007130371872335672, rmse: 0.08444152931073473, mae 0.05880626291036606, r2: -0.0457234080093164, nrmse: 0.9647744549359963\n",
      "INFO logger 2024-06-02 23:22:12,172 | helpers.py:148 | Validation loss decreased (0.000060 --> 0.000060). Caching model ...\n",
      "INFO logger 2024-06-02 23:22:12,489 | train_utils.py:97 | Epoch 48 [Train]: loss 0.008243474579836813, mse: 0.007513462565839291, rmse: 0.08668023169004159, mae 0.05984441563487053, r2: 0.20914757829794137, nrmse: 1.1282995254371386\n",
      "INFO logger 2024-06-02 23:22:12,490 | train_utils.py:99 | Epoch 48 [Test]: loss 6.0889651995033056e-05, mse: 0.007304971572011709, rmse: 0.0854691264259306, mae 0.05828888341784477, r2: -0.06274270986083241, nrmse: 0.9380045669894459\n",
      "INFO logger 2024-06-02 23:22:12,490 | helpers.py:136 | EarlyStopping counter: 1 out of 80\n",
      "INFO logger 2024-06-02 23:22:12,804 | train_utils.py:97 | Epoch 49 [Train]: loss 0.008387716764944696, mse: 0.008442217484116554, rmse: 0.09188154049708001, mae 0.0640891045331955, r2: 0.1296649057501472, nrmse: 1.2325070457308558\n",
      "INFO logger 2024-06-02 23:22:12,804 | train_utils.py:99 | Epoch 49 [Test]: loss 7.036712113863974e-05, mse: 0.008478319272398949, rmse: 0.09207778924582707, mae 0.06702573597431183, r2: -0.23194568128928558, nrmse: 1.108621702683763\n",
      "INFO logger 2024-06-02 23:22:12,805 | helpers.py:136 | EarlyStopping counter: 2 out of 80\n",
      "INFO logger 2024-06-02 23:22:13,121 | train_utils.py:97 | Epoch 50 [Train]: loss 0.008143030647789278, mse: 0.007386266253888607, rmse: 0.08594338982079196, mae 0.05931442975997925, r2: 0.214035451481238, nrmse: 1.1312732521515858\n",
      "INFO logger 2024-06-02 23:22:13,122 | train_utils.py:99 | Epoch 50 [Test]: loss 6.148175593999948e-05, mse: 0.0073845358565449715, rmse: 0.08593332215470884, mae 0.059275072067976, r2: -0.07431664773524574, nrmse: 0.9536391310703345\n",
      "INFO logger 2024-06-02 23:22:13,123 | helpers.py:136 | EarlyStopping counter: 3 out of 80\n",
      "INFO logger 2024-06-02 23:22:13,438 | train_utils.py:97 | Epoch 51 [Train]: loss 0.007913827697085518, mse: 0.007069764193147421, rmse: 0.0840818898048053, mae 0.05787721276283264, r2: 0.24373951590665305, nrmse: 1.0985642931900486\n",
      "INFO logger 2024-06-02 23:22:13,438 | train_utils.py:99 | Epoch 51 [Test]: loss 6.061945671851913e-05, mse: 0.0072973622009158134, rmse: 0.08542459950690909, mae 0.059021998196840286, r2: -0.028089113996640803, nrmse: 0.9113426514954847\n",
      "INFO logger 2024-06-02 23:22:13,438 | helpers.py:136 | EarlyStopping counter: 4 out of 80\n",
      "INFO logger 2024-06-02 23:22:13,823 | train_utils.py:97 | Epoch 52 [Train]: loss 0.007706163180691581, mse: 0.007026612758636475, rmse: 0.0838248934305107, mae 0.05773270130157471, r2: 0.23850402676877408, nrmse: 1.110828212273943\n",
      "INFO logger 2024-06-02 23:22:13,823 | train_utils.py:99 | Epoch 52 [Test]: loss 5.964512775303225e-05, mse: 0.007170865777879953, rmse: 0.08468096467258715, mae 0.058535367250442505, r2: -0.03620964784205014, nrmse: 0.9330144223007245\n",
      "INFO logger 2024-06-02 23:22:13,824 | helpers.py:148 | Validation loss decreased (0.000060 --> 0.000060). Caching model ...\n",
      "INFO logger 2024-06-02 23:22:14,143 | train_utils.py:97 | Epoch 53 [Train]: loss 0.007730399224636776, mse: 0.0069669680669903755, rmse: 0.08346836566622337, mae 0.05752860754728317, r2: 0.2432653714737841, nrmse: 1.1044416805265875\n",
      "INFO logger 2024-06-02 23:22:14,144 | train_utils.py:99 | Epoch 53 [Test]: loss 5.916091474109513e-05, mse: 0.007110989652574062, rmse: 0.08432668410754725, mae 0.05815659090876579, r2: -0.029996371313632354, nrmse: 0.927201309830651\n",
      "INFO logger 2024-06-02 23:22:14,144 | helpers.py:148 | Validation loss decreased (0.000060 --> 0.000059). Caching model ...\n",
      "INFO logger 2024-06-02 23:22:14,460 | train_utils.py:97 | Epoch 54 [Train]: loss 0.007697279106885675, mse: 0.006952440831810236, rmse: 0.08338129785395665, mae 0.057353146374225616, r2: 0.24370318313113612, nrmse: 1.1050446596348553\n",
      "INFO logger 2024-06-02 23:22:14,462 | train_utils.py:99 | Epoch 54 [Test]: loss 5.9066433315352756e-05, mse: 0.007110517472028732, rmse: 0.08432388435092832, mae 0.05801687762141228, r2: -0.026087727459868138, nrmse: 0.917873722755066\n",
      "INFO logger 2024-06-02 23:22:14,462 | helpers.py:148 | Validation loss decreased (0.000059 --> 0.000059). Caching model ...\n",
      "INFO logger 2024-06-02 23:22:14,778 | train_utils.py:97 | Epoch 55 [Train]: loss 0.007698717373122852, mse: 0.007094595581293106, rmse: 0.08422942230178898, mae 0.05793408676981926, r2: 0.22761864557821632, nrmse: 1.1296125121768128\n",
      "INFO logger 2024-06-02 23:22:14,779 | train_utils.py:99 | Epoch 55 [Test]: loss 6.0140730484443554e-05, mse: 0.007242301944643259, rmse: 0.08510171528614015, mae 0.059217698872089386, r2: -0.06272299861727111, nrmse: 0.9659623174161142\n",
      "INFO logger 2024-06-02 23:22:14,780 | helpers.py:136 | EarlyStopping counter: 1 out of 80\n",
      "INFO logger 2024-06-02 23:22:15,105 | train_utils.py:97 | Epoch 56 [Train]: loss 0.007672928814445773, mse: 0.0071554407477378845, rmse: 0.08458983832433943, mae 0.058094918727874756, r2: 0.23158594635621738, nrmse: 1.1146106040722579\n",
      "INFO logger 2024-06-02 23:22:15,105 | train_utils.py:99 | Epoch 56 [Test]: loss 6.0101131974912646e-05, mse: 0.00723230978474021, rmse: 0.08504298786343416, mae 0.0588386170566082, r2: -0.05048416151909394, nrmse: 0.9439560459942178\n",
      "INFO logger 2024-06-02 23:22:15,106 | helpers.py:136 | EarlyStopping counter: 2 out of 80\n",
      "INFO logger 2024-06-02 23:22:15,424 | train_utils.py:97 | Epoch 57 [Train]: loss 0.007625236239795002, mse: 0.007200079970061779, rmse: 0.08485328496918537, mae 0.05836924910545349, r2: 0.22697114585067985, nrmse: 1.1209174278390808\n",
      "INFO logger 2024-06-02 23:22:15,425 | train_utils.py:99 | Epoch 57 [Test]: loss 5.976648778261538e-05, mse: 0.007199557032436132, rmse: 0.08485020349083515, mae 0.05825790762901306, r2: -0.03992183240968776, nrmse: 0.9276125247032642\n",
      "INFO logger 2024-06-02 23:22:15,425 | helpers.py:136 | EarlyStopping counter: 3 out of 80\n",
      "INFO logger 2024-06-02 23:22:15,748 | train_utils.py:97 | Epoch 58 [Train]: loss 0.007616843956883156, mse: 0.006924489047378302, rmse: 0.08321351481206825, mae 0.05740892142057419, r2: 0.23704406387643445, nrmse: 1.1246864811495159\n",
      "INFO logger 2024-06-02 23:22:15,749 | train_utils.py:99 | Epoch 58 [Test]: loss 5.9509088820609636e-05, mse: 0.007182266563177109, rmse: 0.08474825404205746, mae 0.05877581983804703, r2: -0.05504649879437647, nrmse: 0.9581080374153115\n",
      "INFO logger 2024-06-02 23:22:15,750 | helpers.py:136 | EarlyStopping counter: 4 out of 80\n",
      "INFO logger 2024-06-02 23:22:16,066 | train_utils.py:97 | Epoch 59 [Train]: loss 0.007498215557256293, mse: 0.0067472741939127445, rmse: 0.0821417932231379, mae 0.0568714514374733, r2: 0.2517204959688447, nrmse: 1.1071568068327287\n",
      "INFO logger 2024-06-02 23:22:16,067 | train_utils.py:99 | Epoch 59 [Test]: loss 5.894546758410424e-05, mse: 0.007109557744115591, rmse: 0.08431819343484294, mae 0.05797769874334335, r2: -0.03917945603418864, nrmse: 0.9379860706194545\n",
      "INFO logger 2024-06-02 23:22:16,068 | helpers.py:148 | Validation loss decreased (0.000059 --> 0.000059). Caching model ...\n",
      "INFO logger 2024-06-02 23:22:16,390 | train_utils.py:97 | Epoch 60 [Train]: loss 0.007456246339115164, mse: 0.0068439519964158535, rmse: 0.08272818139192867, mae 0.057199876755476, r2: 0.24246712123542205, nrmse: 1.119514268939047\n",
      "INFO logger 2024-06-02 23:22:16,392 | train_utils.py:99 | Epoch 60 [Test]: loss 5.9010387927878133e-05, mse: 0.0071211219765245914, rmse: 0.08438674052553867, mae 0.05813857913017273, r2: -0.04123336743392738, nrmse: 0.9415128594318438\n",
      "INFO logger 2024-06-02 23:22:16,392 | helpers.py:136 | EarlyStopping counter: 1 out of 80\n",
      "INFO logger 2024-06-02 23:22:16,708 | train_utils.py:97 | Epoch 61 [Train]: loss 0.007451490367642573, mse: 0.006662597414106131, rmse: 0.08162473530803105, mae 0.05643260478973389, r2: 0.26306483261269376, nrmse: 1.0915829185714268\n",
      "INFO logger 2024-06-02 23:22:16,709 | train_utils.py:99 | Epoch 61 [Test]: loss 5.909346113264007e-05, mse: 0.007126028649508953, rmse: 0.08441580805458745, mae 0.05814457684755325, r2: -0.026603110288745645, nrmse: 0.9225169032668585\n",
      "INFO logger 2024-06-02 23:22:16,710 | helpers.py:136 | EarlyStopping counter: 2 out of 80\n",
      "INFO logger 2024-06-02 23:22:17,018 | train_utils.py:97 | Epoch 62 [Train]: loss 0.007411619573230705, mse: 0.006693786941468716, rmse: 0.08181556662071537, mae 0.05647243186831474, r2: 0.2584479138658882, nrmse: 1.0983917029754608\n",
      "INFO logger 2024-06-02 23:22:17,018 | train_utils.py:99 | Epoch 62 [Test]: loss 5.881920297340835e-05, mse: 0.00710153067484498, rmse: 0.08427058012642953, mae 0.05777643248438835, r2: -0.023359754053140457, nrmse: 0.9139542159627456\n",
      "INFO logger 2024-06-02 23:22:17,019 | helpers.py:148 | Validation loss decreased (0.000059 --> 0.000059). Caching model ...\n",
      "INFO logger 2024-06-02 23:22:17,342 | train_utils.py:97 | Epoch 63 [Train]: loss 0.007413413563382721, mse: 0.0066338456235826015, rmse: 0.08144842308837294, mae 0.05637583136558533, r2: 0.2666547260395225, nrmse: 1.0861049994264833\n",
      "INFO logger 2024-06-02 23:22:17,343 | train_utils.py:99 | Epoch 63 [Test]: loss 5.9119895700330706e-05, mse: 0.007125907577574253, rmse: 0.08441509093505883, mae 0.05789325386285782, r2: -0.025849218598381872, nrmse: 0.9158445288093899\n",
      "INFO logger 2024-06-02 23:22:17,344 | helpers.py:136 | EarlyStopping counter: 1 out of 80\n",
      "INFO logger 2024-06-02 23:22:17,739 | train_utils.py:97 | Epoch 64 [Train]: loss 0.007374920371559358, mse: 0.006605695001780987, rmse: 0.08127542680159229, mae 0.0561985969543457, r2: 0.2748213376377474, nrmse: 1.0722429910465676\n",
      "INFO logger 2024-06-02 23:22:17,739 | train_utils.py:99 | Epoch 64 [Test]: loss 5.921550523739604e-05, mse: 0.007136799395084381, rmse: 0.08447957975205832, mae 0.057870425283908844, r2: -0.011757485364707044, nrmse: 0.9001819832295223\n",
      "INFO logger 2024-06-02 23:22:17,740 | helpers.py:136 | EarlyStopping counter: 2 out of 80\n",
      "INFO logger 2024-06-02 23:22:18,059 | train_utils.py:97 | Epoch 65 [Train]: loss 0.007403441137754389, mse: 0.006630202289670706, rmse: 0.08142605412072174, mae 0.05613517761230469, r2: 0.2630993321455536, nrmse: 1.0937239024895538\n",
      "INFO logger 2024-06-02 23:22:18,060 | train_utils.py:99 | Epoch 65 [Test]: loss 5.888961345895402e-05, mse: 0.007109321653842926, rmse: 0.08431679342718701, mae 0.05780857056379318, r2: -0.022653024245911424, nrmse: 0.9117049664934749\n",
      "INFO logger 2024-06-02 23:22:18,060 | helpers.py:136 | EarlyStopping counter: 3 out of 80\n",
      "INFO logger 2024-06-02 23:22:18,381 | train_utils.py:97 | Epoch 66 [Train]: loss 0.007376130118275121, mse: 0.006655874662101269, rmse: 0.08158354406435939, mae 0.056210845708847046, r2: 0.258799580936952, nrmse: 1.1005604709975547\n",
      "INFO logger 2024-06-02 23:22:18,382 | train_utils.py:99 | Epoch 66 [Test]: loss 5.89257654021768e-05, mse: 0.007119711488485336, rmse: 0.08437838282691448, mae 0.057801079005002975, r2: -0.034649437136395546, nrmse: 0.9240115136690382\n",
      "INFO logger 2024-06-02 23:22:18,382 | helpers.py:136 | EarlyStopping counter: 4 out of 80\n",
      "INFO logger 2024-06-02 23:22:18,707 | train_utils.py:97 | Epoch 67 [Train]: loss 0.007446837709135105, mse: 0.006746474653482437, rmse: 0.08213692624807942, mae 0.05660020560026169, r2: 0.2443741688158087, nrmse: 1.1239240844961242\n",
      "INFO logger 2024-06-02 23:22:18,708 | train_utils.py:99 | Epoch 67 [Test]: loss 5.928091406899094e-05, mse: 0.007165627088397741, rmse: 0.08465002710216779, mae 0.05838998034596443, r2: -0.0642365074253924, nrmse: 0.9632688472021693\n",
      "INFO logger 2024-06-02 23:22:18,708 | helpers.py:136 | EarlyStopping counter: 5 out of 80\n",
      "INFO logger 2024-06-02 23:22:19,045 | train_utils.py:97 | Epoch 68 [Train]: loss 0.007515379573188482, mse: 0.007252509705722332, rmse: 0.08516166805389812, mae 0.05888623744249344, r2: 0.19138766423139364, nrmse: 1.190196208290776\n",
      "INFO logger 2024-06-02 23:22:19,046 | train_utils.py:99 | Epoch 68 [Test]: loss 6.109087173399296e-05, mse: 0.007377042435109615, rmse: 0.08588971088034711, mae 0.059922534972429276, r2: -0.1438984475757196, nrmse: 1.0482028280036273\n",
      "INFO logger 2024-06-02 23:22:19,046 | helpers.py:136 | EarlyStopping counter: 6 out of 80\n",
      "INFO logger 2024-06-02 23:22:19,376 | train_utils.py:97 | Epoch 69 [Train]: loss 0.007529991630074237, mse: 0.007604791317135096, rmse: 0.08720545462948459, mae 0.05991595983505249, r2: 0.1997181599076129, nrmse: 1.1458590547925092\n",
      "INFO logger 2024-06-02 23:22:19,376 | train_utils.py:99 | Epoch 69 [Test]: loss 6.193481385707855e-05, mse: 0.007478308863937855, rmse: 0.08647721586601788, mae 0.0595209077000618, r2: -0.09980514055557124, nrmse: 0.9759111097982343\n",
      "INFO logger 2024-06-02 23:22:19,378 | helpers.py:136 | EarlyStopping counter: 7 out of 80\n",
      "INFO logger 2024-06-02 23:22:19,720 | train_utils.py:97 | Epoch 70 [Train]: loss 0.00742781077391438, mse: 0.006888358388096094, rmse: 0.08299613477804911, mae 0.05721192806959152, r2: 0.25101951146786783, nrmse: 1.0982194390501712\n",
      "INFO logger 2024-06-02 23:22:19,721 | train_utils.py:99 | Epoch 70 [Test]: loss 5.981981537090489e-05, mse: 0.007245904300361872, rmse: 0.08512287765555081, mae 0.05884677916765213, r2: -0.044962887096681725, nrmse: 0.936699466398898\n",
      "INFO logger 2024-06-02 23:22:19,721 | helpers.py:136 | EarlyStopping counter: 8 out of 80\n",
      "INFO logger 2024-06-02 23:22:20,056 | train_utils.py:97 | Epoch 71 [Train]: loss 0.007300383824434492, mse: 0.0066649457439780235, rmse: 0.08163911895640485, mae 0.05651916190981865, r2: 0.2517090016076952, nrmse: 1.116457470562564\n",
      "INFO logger 2024-06-02 23:22:20,057 | train_utils.py:99 | Epoch 71 [Test]: loss 5.902723847504924e-05, mse: 0.007150585297495127, rmse: 0.08456113349225593, mae 0.05858863517642021, r2: -0.05239582824445652, nrmse: 0.9520092103267405\n",
      "INFO logger 2024-06-02 23:22:20,057 | helpers.py:136 | EarlyStopping counter: 9 out of 80\n",
      "INFO logger 2024-06-02 23:22:20,403 | train_utils.py:97 | Epoch 72 [Train]: loss 0.007337681596137343, mse: 0.0066421604715287685, rmse: 0.08149945074372446, mae 0.056707799434661865, r2: 0.2557336992090191, nrmse: 1.1094517176764198\n",
      "INFO logger 2024-06-02 23:22:20,404 | train_utils.py:99 | Epoch 72 [Test]: loss 5.912688278215404e-05, mse: 0.007149947341531515, rmse: 0.08455736124981382, mae 0.05811655521392822, r2: -0.05559256339528522, nrmse: 0.944792911696968\n",
      "INFO logger 2024-06-02 23:22:20,404 | helpers.py:136 | EarlyStopping counter: 10 out of 80\n",
      "INFO logger 2024-06-02 23:22:20,736 | train_utils.py:97 | Epoch 73 [Train]: loss 0.007303143423351068, mse: 0.006606483366340399, rmse: 0.0812802766133359, mae 0.05636480450630188, r2: 0.2614679191795696, nrmse: 1.1022147612801592\n",
      "INFO logger 2024-06-02 23:22:20,736 | train_utils.py:99 | Epoch 73 [Test]: loss 5.9102150833597495e-05, mse: 0.007155369967222214, rmse: 0.08458941994849127, mae 0.058178745210170746, r2: -0.0467636608215672, nrmse: 0.9370162261928906\n",
      "INFO logger 2024-06-02 23:22:20,736 | helpers.py:136 | EarlyStopping counter: 11 out of 80\n",
      "INFO logger 2024-06-02 23:22:21,072 | train_utils.py:97 | Epoch 74 [Train]: loss 0.0072444315226147735, mse: 0.0065846191719174385, rmse: 0.08114566637792457, mae 0.0563354417681694, r2: 0.25787918039329755, nrmse: 1.112364419819958\n",
      "INFO logger 2024-06-02 23:22:21,072 | train_utils.py:99 | Epoch 74 [Test]: loss 5.904911926940806e-05, mse: 0.007151185069233179, rmse: 0.08456467979737864, mae 0.05807558447122574, r2: -0.051717602612692315, nrmse: 0.9410468542459386\n",
      "INFO logger 2024-06-02 23:22:21,074 | helpers.py:136 | EarlyStopping counter: 12 out of 80\n",
      "INFO logger 2024-06-02 23:22:21,489 | train_utils.py:97 | Epoch 75 [Train]: loss 0.00723470754230455, mse: 0.006641492247581482, rmse: 0.08149535107956454, mae 0.05654998868703842, r2: 0.2551218679544405, nrmse: 1.1123184961465302\n",
      "INFO logger 2024-06-02 23:22:21,490 | train_utils.py:99 | Epoch 75 [Test]: loss 5.92831255996867e-05, mse: 0.007185511291027069, rmse: 0.08476739521199804, mae 0.058056123554706573, r2: -0.05686109168997418, nrmse: 0.9380830910278669\n",
      "INFO logger 2024-06-02 23:22:21,490 | helpers.py:136 | EarlyStopping counter: 13 out of 80\n",
      "INFO logger 2024-06-02 23:22:21,815 | train_utils.py:97 | Epoch 76 [Train]: loss 0.007214754403028037, mse: 0.006529507227241993, rmse: 0.08080536632700822, mae 0.056110870093107224, r2: 0.251538372726537, nrmse: 1.1321158166728322\n",
      "INFO logger 2024-06-02 23:22:21,815 | train_utils.py:99 | Epoch 76 [Test]: loss 5.902717191768259e-05, mse: 0.007152429316192865, rmse: 0.0845720362542659, mae 0.05866391584277153, r2: -0.07871877869222968, nrmse: 0.9840124806246472\n",
      "INFO logger 2024-06-02 23:22:21,816 | helpers.py:136 | EarlyStopping counter: 14 out of 80\n",
      "INFO logger 2024-06-02 23:22:22,172 | train_utils.py:97 | Epoch 77 [Train]: loss 0.007181442635614545, mse: 0.006522131618112326, rmse: 0.08075971531718228, mae 0.056000638753175735, r2: 0.25799368945596535, nrmse: 1.1160018814551274\n",
      "INFO logger 2024-06-02 23:22:22,172 | train_utils.py:99 | Epoch 77 [Test]: loss 5.894273729039543e-05, mse: 0.007139895111322403, rmse: 0.08449790004090281, mae 0.058208830654621124, r2: -0.065286666656457, nrmse: 0.9569462937976558\n",
      "INFO logger 2024-06-02 23:22:22,173 | helpers.py:136 | EarlyStopping counter: 15 out of 80\n",
      "INFO logger 2024-06-02 23:22:22,523 | train_utils.py:97 | Epoch 78 [Train]: loss 0.007200328727072525, mse: 0.0065716044045984745, rmse: 0.08106543285888551, mae 0.05607380345463753, r2: 0.2592812960955415, nrmse: 1.108275332366155\n",
      "INFO logger 2024-06-02 23:22:22,524 | train_utils.py:99 | Epoch 78 [Test]: loss 5.8942340108709194e-05, mse: 0.007149461656808853, rmse: 0.08455448927649467, mae 0.057914335280656815, r2: -0.05262653194535647, nrmse: 0.9328695296893234\n",
      "INFO logger 2024-06-02 23:22:22,524 | helpers.py:136 | EarlyStopping counter: 16 out of 80\n",
      "INFO logger 2024-06-02 23:22:22,851 | train_utils.py:97 | Epoch 79 [Train]: loss 0.007285484890153091, mse: 0.0065537504851818085, rmse: 0.08095523754014812, mae 0.05602012202143669, r2: 0.26276875610936706, nrmse: 1.1038030877490401\n",
      "INFO logger 2024-06-02 23:22:22,852 | train_utils.py:99 | Epoch 79 [Test]: loss 5.9114497825810906e-05, mse: 0.00715816393494606, rmse: 0.08460593321361133, mae 0.058225058019161224, r2: -0.05825026789972774, nrmse: 0.9465535684677508\n",
      "INFO logger 2024-06-02 23:22:22,852 | helpers.py:136 | EarlyStopping counter: 17 out of 80\n",
      "INFO logger 2024-06-02 23:22:23,181 | train_utils.py:97 | Epoch 80 [Train]: loss 0.007299040462971936, mse: 0.006847186479717493, rmse: 0.08274772794293202, mae 0.05724046379327774, r2: 0.22959773593534122, nrmse: 1.1495958047151367\n",
      "INFO logger 2024-06-02 23:22:23,181 | train_utils.py:99 | Epoch 80 [Test]: loss 5.99117741042554e-05, mse: 0.007252601440995932, rmse: 0.08516220664705637, mae 0.059233229607343674, r2: -0.10840478655485682, nrmse: 1.0090671306650867\n",
      "INFO logger 2024-06-02 23:22:23,182 | helpers.py:136 | EarlyStopping counter: 18 out of 80\n",
      "INFO logger 2024-06-02 23:22:23,512 | train_utils.py:97 | Epoch 81 [Train]: loss 0.0074069913093661585, mse: 0.007291734218597412, rmse: 0.0853916519256854, mae 0.05888249725103378, r2: 0.20823088232155368, nrmse: 1.1580042220793187\n",
      "INFO logger 2024-06-02 23:22:23,512 | train_utils.py:99 | Epoch 81 [Test]: loss 6.128379534949213e-05, mse: 0.007407583296298981, rmse: 0.08606731839844309, mae 0.05984680727124214, r2: -0.12984096998701744, nrmse: 1.025550814641599\n",
      "INFO logger 2024-06-02 23:22:23,513 | helpers.py:136 | EarlyStopping counter: 19 out of 80\n",
      "INFO logger 2024-06-02 23:22:23,846 | train_utils.py:97 | Epoch 82 [Train]: loss 0.007274343801151601, mse: 0.006844883318990469, rmse: 0.08273381001132771, mae 0.05703098699450493, r2: 0.26100039930306773, nrmse: 1.0798940670085437\n",
      "INFO logger 2024-06-02 23:22:23,847 | train_utils.py:99 | Epoch 82 [Test]: loss 5.950831367958133e-05, mse: 0.00722459563985467, rmse: 0.08499762137762838, mae 0.05819481611251831, r2: -0.02818980464494043, nrmse: 0.8978971627328806\n",
      "INFO logger 2024-06-02 23:22:23,847 | helpers.py:136 | EarlyStopping counter: 20 out of 80\n",
      "INFO logger 2024-06-02 23:22:24,177 | train_utils.py:97 | Epoch 83 [Train]: loss 0.007202492365914006, mse: 0.006568601820617914, rmse: 0.08104691123428402, mae 0.056111179292201996, r2: 0.2697057951368429, nrmse: 1.0891285911311528\n",
      "INFO logger 2024-06-02 23:22:24,178 | train_utils.py:99 | Epoch 83 [Test]: loss 5.93104972566552e-05, mse: 0.007195588201284409, rmse: 0.08482681298554372, mae 0.058325428515672684, r2: -0.03659151546689832, nrmse: 0.9131667736063138\n",
      "INFO logger 2024-06-02 23:22:24,178 | helpers.py:136 | EarlyStopping counter: 21 out of 80\n",
      "INFO logger 2024-06-02 23:22:24,518 | train_utils.py:97 | Epoch 84 [Train]: loss 0.00715929294575847, mse: 0.006588911172002554, rmse: 0.08117210833779392, mae 0.056443631649017334, r2: 0.2618261862284933, nrmse: 1.1031292503030288\n",
      "INFO logger 2024-06-02 23:22:24,518 | train_utils.py:99 | Epoch 84 [Test]: loss 5.9400789172487606e-05, mse: 0.007210129406303167, rmse: 0.08491248086296364, mae 0.058152712881565094, r2: -0.0581586986773744, nrmse: 0.9297368035566276\n",
      "INFO logger 2024-06-02 23:22:24,519 | helpers.py:136 | EarlyStopping counter: 22 out of 80\n",
      "INFO logger 2024-06-02 23:22:24,853 | train_utils.py:97 | Epoch 85 [Train]: loss 0.007147645393777038, mse: 0.0066328467801213264, rmse: 0.08144229110309537, mae 0.05650344491004944, r2: 0.2645269025107944, nrmse: 1.094802446217425\n",
      "INFO logger 2024-06-02 23:22:24,854 | train_utils.py:99 | Epoch 85 [Test]: loss 6.0317519104533026e-05, mse: 0.007332312408834696, rmse: 0.08562892273545601, mae 0.05838799476623535, r2: -0.05299155492867565, nrmse: 0.9052099637206078\n",
      "INFO logger 2024-06-02 23:22:24,854 | helpers.py:136 | EarlyStopping counter: 23 out of 80\n",
      "INFO logger 2024-06-02 23:22:25,186 | train_utils.py:97 | Epoch 86 [Train]: loss 0.007125491186255409, mse: 0.006570491008460522, rmse: 0.08105856529979125, mae 0.05632523447275162, r2: 0.27059554537068176, nrmse: 1.0909372491295968\n",
      "INFO logger 2024-06-02 23:22:25,186 | train_utils.py:99 | Epoch 86 [Test]: loss 6.02189668668559e-05, mse: 0.007314824499189854, rmse: 0.08552674727352756, mae 0.05841626971960068, r2: -0.046519558624748325, nrmse: 0.9031248077437951\n",
      "INFO logger 2024-06-02 23:22:25,187 | helpers.py:136 | EarlyStopping counter: 24 out of 80\n",
      "INFO logger 2024-06-02 23:22:25,603 | train_utils.py:97 | Epoch 87 [Train]: loss 0.007132180249168267, mse: 0.006525714881718159, rmse: 0.08078189699256981, mae 0.05608711764216423, r2: 0.2554302059710676, nrmse: 1.1271344814818256\n",
      "INFO logger 2024-06-02 23:22:25,604 | train_utils.py:99 | Epoch 87 [Test]: loss 5.9084908150605496e-05, mse: 0.007191660813987255, rmse: 0.08480366038083059, mae 0.058169346302747726, r2: -0.06681774231651254, nrmse: 0.9369912287147922\n",
      "INFO logger 2024-06-02 23:22:25,605 | helpers.py:136 | EarlyStopping counter: 25 out of 80\n",
      "INFO logger 2024-06-02 23:22:25,934 | train_utils.py:97 | Epoch 88 [Train]: loss 0.007034238089897459, mse: 0.006536380387842655, rmse: 0.0808478842508736, mae 0.05584152787923813, r2: 0.2546240319098303, nrmse: 1.129475570730279\n",
      "INFO logger 2024-06-02 23:22:25,935 | train_utils.py:99 | Epoch 88 [Test]: loss 6.041363226701539e-05, mse: 0.007369910832494497, rmse: 0.08584818479440609, mae 0.05869882553815842, r2: -0.08273811383690148, nrmse: 0.9474286462852216\n",
      "INFO logger 2024-06-02 23:22:25,936 | helpers.py:136 | EarlyStopping counter: 26 out of 80\n",
      "INFO logger 2024-06-02 23:22:26,268 | train_utils.py:97 | Epoch 89 [Train]: loss 0.007059915216579553, mse: 0.006844078656286001, rmse: 0.08272894690666624, mae 0.05693954974412918, r2: 0.23977955487677685, nrmse: 1.1383157283297556\n",
      "INFO logger 2024-06-02 23:22:26,269 | train_utils.py:99 | Epoch 89 [Test]: loss 6.335282480100053e-05, mse: 0.007759992033243179, rmse: 0.08809081696319532, mae 0.06012712046504021, r2: -0.10251905107842854, nrmse: 0.9485938673774135\n",
      "INFO logger 2024-06-02 23:22:26,269 | helpers.py:136 | EarlyStopping counter: 27 out of 80\n",
      "INFO logger 2024-06-02 23:22:26,629 | train_utils.py:97 | Epoch 90 [Train]: loss 0.007164600635728528, mse: 0.006977501325309277, rmse: 0.08353143914305126, mae 0.0573420412838459, r2: 0.22842592337341472, nrmse: 1.1520770166302832\n",
      "INFO logger 2024-06-02 23:22:26,630 | train_utils.py:99 | Epoch 90 [Test]: loss 6.545540661396318e-05, mse: 0.008028773590922356, rmse: 0.08960342399106384, mae 0.06148761510848999, r2: -0.11498850234162734, nrmse: 0.9506521460469143\n",
      "INFO logger 2024-06-02 23:22:26,630 | helpers.py:136 | EarlyStopping counter: 28 out of 80\n",
      "INFO logger 2024-06-02 23:22:26,969 | train_utils.py:97 | Epoch 91 [Train]: loss 0.007229295863409436, mse: 0.006508185062557459, rmse: 0.08067332311586935, mae 0.05667022988200188, r2: 0.23245494821173657, nrmse: 1.2048033283981838\n",
      "INFO logger 2024-06-02 23:22:26,970 | train_utils.py:99 | Epoch 91 [Test]: loss 5.760740621401799e-05, mse: 0.007020300719887018, rmse: 0.08378723482659527, mae 0.05855448916554451, r2: -0.08060371045914654, nrmse: 1.0191640496021368\n",
      "INFO logger 2024-06-02 23:22:26,970 | helpers.py:148 | Validation loss decreased (0.000059 --> 0.000058). Caching model ...\n",
      "INFO logger 2024-06-02 23:22:27,301 | train_utils.py:97 | Epoch 92 [Train]: loss 0.006931316321565499, mse: 0.006484478712081909, rmse: 0.08052626100895229, mae 0.05692336708307266, r2: 0.0835209413500337, nrmse: 1.4777082341108692\n",
      "INFO logger 2024-06-02 23:22:27,301 | train_utils.py:99 | Epoch 92 [Test]: loss 5.3750060813960894e-05, mse: 0.006515486631542444, rmse: 0.08071856435506299, mae 0.05925094336271286, r2: -0.46543675891596903, nrmse: 1.4565817625977433\n",
      "INFO logger 2024-06-02 23:22:27,301 | helpers.py:148 | Validation loss decreased (0.000058 --> 0.000054). Caching model ...\n",
      "INFO logger 2024-06-02 23:22:27,672 | train_utils.py:97 | Epoch 93 [Train]: loss 0.006406016989551004, mse: 0.005869078915566206, rmse: 0.07660991395091242, mae 0.05338650941848755, r2: 0.14516235956978388, nrmse: 1.3501197703149568\n",
      "INFO logger 2024-06-02 23:22:27,672 | train_utils.py:99 | Epoch 93 [Test]: loss 4.802969879287192e-05, mse: 0.005745245609432459, rmse: 0.07579739843446119, mae 0.05443765968084335, r2: -0.3867455851970423, nrmse: 1.280929350850092\n",
      "INFO logger 2024-06-02 23:22:27,673 | helpers.py:148 | Validation loss decreased (0.000054 --> 0.000048). Caching model ...\n",
      "INFO logger 2024-06-02 23:22:28,020 | train_utils.py:97 | Epoch 94 [Train]: loss 0.006021376293633253, mse: 0.005511095281690359, rmse: 0.07423675155669433, mae 0.050095219165086746, r2: 0.33448156266394646, nrmse: 1.0459096527043212\n",
      "INFO logger 2024-06-02 23:22:28,021 | train_utils.py:99 | Epoch 94 [Test]: loss 4.510524691350689e-05, mse: 0.0054201120510697365, rmse: 0.07362141027628943, mae 0.05121515318751335, r2: 0.22996262449536947, nrmse: 0.7620256511426822\n",
      "INFO logger 2024-06-02 23:22:28,021 | helpers.py:148 | Validation loss decreased (0.000048 --> 0.000045). Caching model ...\n",
      "INFO logger 2024-06-02 23:22:28,359 | train_utils.py:97 | Epoch 95 [Train]: loss 0.006196887232363224, mse: 0.006039176601916552, rmse: 0.07771213934718663, mae 0.05432892590761185, r2: 0.3269035700333037, nrmse: 1.060436639446432\n",
      "INFO logger 2024-06-02 23:22:28,360 | train_utils.py:99 | Epoch 95 [Test]: loss 4.5453538489600085e-05, mse: 0.005389847792685032, rmse: 0.07341558276473076, mae 0.052321530878543854, r2: 0.16368504801257616, nrmse: 0.8461861213069396\n",
      "INFO logger 2024-06-02 23:22:28,360 | helpers.py:136 | EarlyStopping counter: 1 out of 80\n",
      "INFO logger 2024-06-02 23:22:28,707 | train_utils.py:97 | Epoch 96 [Train]: loss 0.0061054486037802795, mse: 0.006123420316725969, rmse: 0.07825228633545457, mae 0.05380069464445114, r2: 0.26766612282674584, nrmse: 1.097235413530403\n",
      "INFO logger 2024-06-02 23:22:28,707 | train_utils.py:99 | Epoch 96 [Test]: loss 4.631507578541374e-05, mse: 0.00548198027536273, rmse: 0.07404039623990899, mae 0.05181645229458809, r2: 0.04666906560263544, nrmse: 0.8367170044966052\n",
      "INFO logger 2024-06-02 23:22:28,708 | helpers.py:136 | EarlyStopping counter: 2 out of 80\n",
      "INFO logger 2024-06-02 23:22:29,041 | train_utils.py:97 | Epoch 97 [Train]: loss 0.005361335795192468, mse: 0.005552751012146473, rmse: 0.07451678342592676, mae 0.05232920125126839, r2: 0.2744335861922167, nrmse: 1.154048966116381\n",
      "INFO logger 2024-06-02 23:22:29,042 | train_utils.py:99 | Epoch 97 [Test]: loss 3.418540646936226e-05, mse: 0.003986779134720564, rmse: 0.06314094657764138, mae 0.04432754963636398, r2: 0.08052697752838456, nrmse: 0.9410929520666322\n",
      "INFO logger 2024-06-02 23:22:29,042 | helpers.py:148 | Validation loss decreased (0.000045 --> 0.000034). Caching model ...\n",
      "INFO logger 2024-06-02 23:22:29,390 | train_utils.py:97 | Epoch 98 [Train]: loss 0.00524021448537467, mse: 0.004472208674997091, rmse: 0.0668745742042302, mae 0.045034170150756836, r2: 0.3893932992714919, nrmse: 1.0766276865674271\n",
      "INFO logger 2024-06-02 23:22:29,391 | train_utils.py:99 | Epoch 98 [Test]: loss 2.5658475216362776e-05, mse: 0.002857289742678404, rmse: 0.053453622353198886, mae 0.03683549910783768, r2: 0.35023899656317264, nrmse: 0.7799864714648447\n",
      "INFO logger 2024-06-02 23:22:29,392 | helpers.py:148 | Validation loss decreased (0.000034 --> 0.000026). Caching model ...\n",
      "INFO logger 2024-06-02 23:22:29,821 | train_utils.py:97 | Epoch 99 [Train]: loss 0.005362611586949037, mse: 0.00598915433511138, rmse: 0.07738962679268702, mae 0.05287564545869827, r2: 0.2587900815192808, nrmse: 1.2358025951122944\n",
      "INFO logger 2024-06-02 23:22:29,822 | train_utils.py:99 | Epoch 99 [Test]: loss 4.108536842406965e-05, mse: 0.0047775027342140675, rmse: 0.06911948158235902, mae 0.04903241619467735, r2: 0.10109839675466037, nrmse: 0.997435874240044\n",
      "INFO logger 2024-06-02 23:22:29,822 | helpers.py:136 | EarlyStopping counter: 1 out of 80\n",
      "INFO logger 2024-06-02 23:22:30,153 | train_utils.py:97 | Epoch 100 [Train]: loss 0.005866200334557723, mse: 0.005164171103388071, rmse: 0.07186216739973872, mae 0.048647958785295486, r2: 0.3682315321525097, nrmse: 1.0815528128907794\n",
      "INFO logger 2024-06-02 23:22:30,154 | train_utils.py:99 | Epoch 100 [Test]: loss 4.3045378590946474e-05, mse: 0.005086964927613735, rmse: 0.07132296213432064, mae 0.04942455142736435, r2: 0.1489935708040663, nrmse: 0.8983177527563433\n",
      "INFO logger 2024-06-02 23:22:30,154 | helpers.py:136 | EarlyStopping counter: 2 out of 80\n"
     ]
    },
    {
     "data": {
      "text/plain": "<Figure size 640x480 with 1 Axes>",
      "image/png": "[encoded data removed]"
     },
     "metadata": {},
     "output_type": "display_data"
    },
    {
     "data": {
      "text/plain": "<Figure size 640x480 with 1 Axes>",
      "image/png": "[encoded data removed]"
     },
     "metadata": {},
     "output_type": "display_data"
    },
    {
     "name": "stderr",
     "output_type": "stream",
     "text": [
      "INFO logger 2024-06-02 23:22:30,353 | train_utils.py:140 | Best Loss: 2.5658475216362776e-05, Best epoch: 100\n"
     ]
    }
   ],
   "source": [
    "trained_model = fit(model, X_train, y_train, X_val, y_val)"
   ]
  },
  {
   "cell_type": "code",
   "execution_count": 326,
   "id": "5196ee3c-1f4d-46c9-b236-a54ae12fa7d4",
   "metadata": {},
   "outputs": [],
   "source": []
  }
 ],
 "metadata": {
  "kernelspec": {
   "display_name": "Python 3 (ipykernel)",
   "language": "python",
   "name": "python3"
  },
  "language_info": {
   "codemirror_mode": {
    "name": "ipython",
    "version": 3
   },
   "file_extension": ".py",
   "mimetype": "text/x-python",
   "name": "python",
   "nbconvert_exporter": "python",
   "pygments_lexer": "ipython3",
   "version": "3.8.19"
  },
  "vscode": {
   "interpreter": {
    "hash": "a39106e1a9d6d153b7400628e7589ff266b5caee5b0db427f0903be982155882"
   }
  }
 },
 "nbformat": 4,
 "nbformat_minor": 5
}
